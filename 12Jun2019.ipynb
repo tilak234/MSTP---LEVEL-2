{
 "cells": [
  {
   "cell_type": "code",
   "execution_count": 32,
   "metadata": {},
   "outputs": [
    {
     "data": {
      "text/plain": [
       "'NHY'"
      ]
     },
     "execution_count": 32,
     "metadata": {},
     "output_type": "execute_result"
    }
   ],
   "source": [
    "s=\"PYTHON\"\n",
    "s[::-2]"
   ]
  },
  {
   "cell_type": "code",
   "execution_count": 11,
   "metadata": {},
   "outputs": [
    {
     "data": {
      "text/plain": [
       "'n'"
      ]
     },
     "execution_count": 11,
     "metadata": {},
     "output_type": "execute_result"
    }
   ],
   "source": [
    "s=\"Python\"\n",
    "s[-1::]"
   ]
  },
  {
   "cell_type": "markdown",
   "metadata": {},
   "source": [
    "### Functions\n",
    "-----"
   ]
  },
  {
   "cell_type": "code",
   "execution_count": 16,
   "metadata": {},
   "outputs": [],
   "source": [
    "def reverseString(s):\n",
    "    return s[::-1]\n"
   ]
  },
  {
   "cell_type": "code",
   "execution_count": 17,
   "metadata": {},
   "outputs": [
    {
     "data": {
      "text/plain": [
       "'kaliT'"
      ]
     },
     "execution_count": 17,
     "metadata": {},
     "output_type": "execute_result"
    }
   ],
   "source": [
    "reverseString(\"Tilak\")"
   ]
  },
  {
   "cell_type": "code",
   "execution_count": 67,
   "metadata": {},
   "outputs": [
    {
     "name": "stdout",
     "output_type": "stream",
     "text": [
      "Enter a string to check palindromehello\n",
      "hello  is not a palindrome\n"
     ]
    }
   ],
   "source": [
    "#Function to check palindrome or not\n",
    "def palindrome(a):\n",
    "    if a == a[::-1]:\n",
    "        print(a,\" is a palindrome\")\n",
    "    else:\n",
    "        print(a, \" is not a palindrome\")\n",
    "str = input(\"Enter a string to check palindrome\")\n",
    "palindrome(str)\n"
   ]
  },
  {
   "cell_type": "code",
   "execution_count": 4,
   "metadata": {},
   "outputs": [
    {
     "data": {
      "text/plain": [
       "False"
      ]
     },
     "execution_count": 4,
     "metadata": {},
     "output_type": "execute_result"
    }
   ],
   "source": [
    "# is leap function\n",
    "def isLeap(yr):\n",
    "    if yr%400 == 0 or yr%400 ==0 and yr%100 != 0:\n",
    "        return True\n",
    "    else:\n",
    "        return False\n",
    "isLeap(1900)"
   ]
  },
  {
   "cell_type": "code",
   "execution_count": 5,
   "metadata": {},
   "outputs": [
    {
     "data": {
      "text/plain": [
       "4"
      ]
     },
     "execution_count": 5,
     "metadata": {},
     "output_type": "execute_result"
    }
   ],
   "source": [
    "#Count No.Of digits in a number\n",
    "def countDigits(num):\n",
    "    return len(str(num))\n",
    "countDigits(1234)"
   ]
  },
  {
   "cell_type": "code",
   "execution_count": 14,
   "metadata": {},
   "outputs": [
    {
     "name": "stdout",
     "output_type": "stream",
     "text": [
      "45 is biggest number\n"
     ]
    }
   ],
   "source": [
    "# Function to identify the greatest of 4 numbers\n",
    "def greatest(a,b,c,d):\n",
    "    if a > b and a > c and a > c and a > d:\n",
    "        print(a, \"is biggest number\")\n",
    "    elif( b > c and b > d):\n",
    "        print(b, \"is greatest number\")\n",
    "    elif( c > d ):\n",
    "        print(c, \" is greatest\")\n",
    "    else:\n",
    "        print(d,\" is greatest\")\n",
    "greatest(45,6,0,0)"
   ]
  },
  {
   "cell_type": "markdown",
   "metadata": {},
   "source": [
    "### Iteration\n",
    "- for\n",
    "- while"
   ]
  },
  {
   "cell_type": "code",
   "execution_count": 40,
   "metadata": {},
   "outputs": [
    {
     "name": "stdout",
     "output_type": "stream",
     "text": [
      "1 2 3 4 5 6 7 8 9 10 11 12 13 14 15 16 17 18 19 20 21 22 23 24 25 26 27 28 29 30 31 32 33 34 35 36 37 38 39 40 41 42 43 44 45 46 47 48 49 50 51 52 53 54 55 56 57 58 59 60 61 62 63 64 65 66 67 68 69 70 71 72 73 74 75 76 77 78 79 80 81 82 83 84 85 86 87 88 89 90 91 92 93 94 95 96 97 98 99 100 "
     ]
    }
   ],
   "source": [
    "# Function to print n Natural Numbers\n",
    "def num(a):\n",
    "    for i in range(1,a+1):\n",
    "        print(i, end=\" \")\n",
    "num(100)"
   ]
  },
  {
   "cell_type": "code",
   "execution_count": 11,
   "metadata": {},
   "outputs": [
    {
     "name": "stdout",
     "output_type": "stream",
     "text": [
      "1 3 5 7 9 11 13 15 17 19 21 23 25 27 29 31 33 35 37 39 41 43 45 47 49 51 53 55 57 59 61 63 65 67 69 71 73 75 77 79 81 83 85 87 89 91 93 95 97 99 "
     ]
    }
   ],
   "source": [
    "# Function to print n Natural alternate Numbers\n",
    "def num(a):\n",
    "    for i in range(1,a+1,2):\n",
    "        print(i, end=\" \")\n",
    "num(100)"
   ]
  },
  {
   "cell_type": "code",
   "execution_count": 47,
   "metadata": {},
   "outputs": [
    {
     "name": "stdout",
     "output_type": "stream",
     "text": [
      "1 2 3 4 5 6 7 8 9 10 11 12 13 "
     ]
    }
   ],
   "source": [
    "# function to print n Natural numbers using While loop\n",
    "def nNaturalNumbers(n):\n",
    "    counter = 1\n",
    "    while counter <= n:\n",
    "        print(counter, end= \" \")\n",
    "        counter += 1\n",
    "    return\n",
    "nNaturalNumbers(13)"
   ]
  },
  {
   "cell_type": "code",
   "execution_count": 1,
   "metadata": {},
   "outputs": [
    {
     "name": "stdout",
     "output_type": "stream",
     "text": [
      "6 12 18 24 30 36 42 48 54 60 66 72 78 84 90 96 102 108 114 120 126 132 138 144 150 156 162 168 174 180 186 192 198 204 210 216 222 228 234 240 246 252 258 264 270 276 282 288 294 "
     ]
    }
   ],
   "source": [
    "# function to print all numbers divisible by 6\n",
    "# and not a factor of 100 in a given range inclusive\n",
    "\n",
    "def divBy6(a,b):\n",
    "    for i in range(a,b):\n",
    "        if i % 6 == 0 and 100 % i != 0:\n",
    "            print(i, end=\" \")\n",
    "divBy6(1,300)"
   ]
  },
  {
   "cell_type": "code",
   "execution_count": 15,
   "metadata": {},
   "outputs": [
    {
     "name": "stdout",
     "output_type": "stream",
     "text": [
      "248744.0\n"
     ]
    }
   ],
   "source": [
    "# Function to find the average of cubes of all even numbers\n",
    "# in a given range(lb, ub) inclusive\n",
    "\n",
    "def avgCubes(lb,ub):\n",
    "    cubes = 0\n",
    "    counter = 0\n",
    "    for i in range(lb,ub+1):\n",
    "        if i % 2 == 0:\n",
    "            cubes += i ** 3\n",
    "            counter += 1\n",
    "    print(cubes/counter)\n",
    "avgCubes(50,75) #129346.88"
   ]
  },
  {
   "cell_type": "code",
   "execution_count": 16,
   "metadata": {},
   "outputs": [
    {
     "name": "stdout",
     "output_type": "stream",
     "text": [
      "1 2 4 5 10 20 "
     ]
    }
   ],
   "source": [
    "# function to generate the list of factors for a given number\n",
    "# 12 -> 1 2 3 4 6 12\n",
    "\n",
    "def factors(a):\n",
    "    i = 1\n",
    "    for i in range(1,a+1):\n",
    "        if a % i == 0:\n",
    "            print(i, end = \" \")\n",
    "factors(20)"
   ]
  },
  {
   "cell_type": "code",
   "execution_count": 14,
   "metadata": {},
   "outputs": [
    {
     "name": "stdout",
     "output_type": "stream",
     "text": [
      "4.25\n"
     ]
    }
   ],
   "source": [
    "# Function to calculate the average first N Prime Numbers\n",
    "def avgPrime(l,b):\n",
    "    p = pcount = 0\n",
    "    for num in range(l,b + 1):\n",
    "        if num > 1:\n",
    "            for i in range(2,num):\n",
    "                if (num % i) == 0:\n",
    "                    break\n",
    "            else:\n",
    "                p += num\n",
    "                pcount += 1\n",
    "    print(p/pcount)\n",
    "avgPrime(0,10) #2,3,5,7   -> 2+3+5+7 = 17/4 = 4.25"
   ]
  },
  {
   "cell_type": "code",
   "execution_count": 20,
   "metadata": {},
   "outputs": [
    {
     "name": "stdout",
     "output_type": "stream",
     "text": [
      "6\n"
     ]
    }
   ],
   "source": [
    "# Function to generate all Perfect Numbers in a given range\n",
    "def perfectNumRange(n):\n",
    "    sum = 0\n",
    "    for i in range(1,n):\n",
    "        if n%i == 0:\n",
    "            sum += i\n",
    "    print(sum)\n",
    "perfectNumRange(6)"
   ]
  },
  {
   "cell_type": "code",
   "execution_count": 96,
   "metadata": {},
   "outputs": [
    {
     "name": "stdout",
     "output_type": "stream",
     "text": [
      "7  is prime\n"
     ]
    }
   ],
   "source": [
    "# Function to check if a given number is Prime\n",
    "def prime(a):\n",
    "    if a > 1:\n",
    "        for i in range(2,a):\n",
    "            if a % i == 0:\n",
    "                print(a,\" is not a prime\")\n",
    "                break\n",
    "            else:\n",
    "                print(a,\" is prime\")\n",
    "                break\n",
    "    else:\n",
    "        print(a,\"is not a prime\")\n",
    "prime(7)"
   ]
  },
  {
   "cell_type": "code",
   "execution_count": 90,
   "metadata": {},
   "outputs": [
    {
     "data": {
      "text/plain": [
       "0"
      ]
     },
     "execution_count": 90,
     "metadata": {},
     "output_type": "execute_result"
    }
   ],
   "source": [
    "7%7"
   ]
  },
  {
   "cell_type": "code",
   "execution_count": 9,
   "metadata": {},
   "outputs": [
    {
     "name": "stdout",
     "output_type": "stream",
     "text": [
      "2\n"
     ]
    }
   ],
   "source": [
    "# Function to calculate the factorial of a given number\n",
    "def fact(n):\n",
    "    fact = 1\n",
    "    if n>1:\n",
    "        for i in range(1,n+1):\n",
    "            fact = fact*i\n",
    "        print(fact)\n",
    "    else:\n",
    "        print(fact)\n",
    "fact(2)    "
   ]
  },
  {
   "cell_type": "code",
   "execution_count": 66,
   "metadata": {},
   "outputs": [
    {
     "name": "stdout",
     "output_type": "stream",
     "text": [
      "Armstrong Number\n"
     ]
    }
   ],
   "source": [
    "#check armstrong or not\n",
    "#153 = 1^3 + 5^3 + 3^3\n",
    "def armStrong(n):\n",
    "    temp = n\n",
    "    sum = 0\n",
    "    while temp > 0:\n",
    "        d = temp % 10\n",
    "        sum += d ** 3\n",
    "        temp //= 10\n",
    "    if sum == n:\n",
    "        print(\"Armstrong Number\")\n",
    "    else:\n",
    "        print(\"Not Armstrong Number\")\n",
    "armStrong(370)"
   ]
  },
  {
   "cell_type": "code",
   "execution_count": null,
   "metadata": {},
   "outputs": [],
   "source": []
  }
 ],
 "metadata": {
  "kernelspec": {
   "display_name": "Python 3",
   "language": "python",
   "name": "python3"
  },
  "language_info": {
   "codemirror_mode": {
    "name": "ipython",
    "version": 3
   },
   "file_extension": ".py",
   "mimetype": "text/x-python",
   "name": "python",
   "nbconvert_exporter": "python",
   "pygments_lexer": "ipython3",
   "version": "3.7.3"
  }
 },
 "nbformat": 4,
 "nbformat_minor": 2
}
