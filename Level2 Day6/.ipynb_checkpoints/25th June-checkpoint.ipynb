{
 "cells": [
  {
   "cell_type": "markdown",
   "metadata": {},
   "source": [
    "### String Methods"
   ]
  },
  {
   "cell_type": "code",
   "execution_count": 6,
   "metadata": {},
   "outputs": [
    {
     "data": {
      "text/plain": [
       "4"
      ]
     },
     "execution_count": 6,
     "metadata": {},
     "output_type": "execute_result"
    }
   ],
   "source": [
    "s= 'APSSDCAPSSDCAPSSDCAPSSDCAPSSDCAPSSDCAPSSDCAPSSDCAPSSDCAPSSDC'\n",
    "s.index('D')"
   ]
  },
  {
   "cell_type": "code",
   "execution_count": 30,
   "metadata": {},
   "outputs": [
    {
     "data": {
      "text/plain": [
       "'apssdc'"
      ]
     },
     "execution_count": 30,
     "metadata": {},
     "output_type": "execute_result"
    }
   ],
   "source": [
    "s = 'APSSDC'\n",
    "s.casefold()"
   ]
  },
  {
   "cell_type": "code",
   "execution_count": 33,
   "metadata": {},
   "outputs": [
    {
     "name": "stdout",
     "output_type": "stream",
     "text": [
      "45\n"
     ]
    }
   ],
   "source": [
    "#Sum of digits\n",
    "n =123456789\n",
    "sum = 0\n",
    "\n",
    "while n:\n",
    "    sum += n %10\n",
    "    n //= 10\n",
    "print(sum)"
   ]
  },
  {
   "cell_type": "code",
   "execution_count": 41,
   "metadata": {},
   "outputs": [
    {
     "name": "stdout",
     "output_type": "stream",
     "text": [
      "A P S S D   C\n"
     ]
    }
   ],
   "source": [
    "l = [10,20,30,40,50]\n",
    "s = 'APSSD C'\n",
    "print(*s)"
   ]
  },
  {
   "cell_type": "code",
   "execution_count": 48,
   "metadata": {},
   "outputs": [
    {
     "data": {
      "text/plain": [
       "('AP', 'SS', 'DC')"
      ]
     },
     "execution_count": 48,
     "metadata": {},
     "output_type": "execute_result"
    }
   ],
   "source": [
    "s = 'APSSDC'\n",
    "s.partition('SS')"
   ]
  },
  {
   "cell_type": "markdown",
   "metadata": {},
   "source": [
    "### Find and Replace"
   ]
  },
  {
   "cell_type": "code",
   "execution_count": 91,
   "metadata": {},
   "outputs": [
    {
     "name": "stdout",
     "output_type": "stream",
     "text": [
      "Enter Old StringPython\n",
      "Enter New StringJython\n",
      "# Jython is an interpreted, high-level, general-purpose programming language. Created by Guido van Rossum and first released in 1991, Jython's design philosophy emphasizes code readability with its notable use of significant whitespace.\n",
      "# Jython\n",
      "# pythoN\n",
      "# pytHON\n",
      "# PYThon\n"
     ]
    }
   ],
   "source": [
    "# Function for replacing all occurences of a word in a given file\n",
    "\n",
    "\n",
    "# Python is an interpreted, high-level, general-purpose programming language. Created by Guido van Rossum and first released in 1991, Python's design philosophy emphasizes code readability with its notable use of significant whitespace.\n",
    "# Python\n",
    "# pythoN\n",
    "# pytHON\n",
    "# PYThon\n",
    "\n",
    "def findAndReplace(fileLocation, old_word, new_word):\n",
    "    import re\n",
    "    s2 = \"\"\n",
    "    with open(fileLocation,'r') as data:\n",
    "    with open(fileLocation,'w') as rep:\n",
    "        for line in data:\n",
    "            line = line.strip()\n",
    "            words = line.split()\n",
    "            r = re.sub(old_word,new_word,line)\n",
    "            print(r)\n",
    "#             for word in range(len(words)):\n",
    "#                 if re.sub(old_word,new_word,line):\n",
    "#                 rep.write(r)\n",
    "fl = 'DataFiles/data.txt'\n",
    "ow = input(\"Enter Old String\")\n",
    "nw = input(\"Enter New String\")\n",
    "findAndReplace(fl,ow,nw)"
   ]
  },
  {
   "cell_type": "code",
   "execution_count": null,
   "metadata": {},
   "outputs": [],
   "source": []
  }
 ],
 "metadata": {
  "kernelspec": {
   "display_name": "Python 3",
   "language": "python",
   "name": "python3"
  },
  "language_info": {
   "codemirror_mode": {
    "name": "ipython",
    "version": 3
   },
   "file_extension": ".py",
   "mimetype": "text/x-python",
   "name": "python",
   "nbconvert_exporter": "python",
   "pygments_lexer": "ipython3",
   "version": "3.7.3"
  }
 },
 "nbformat": 4,
 "nbformat_minor": 2
}
