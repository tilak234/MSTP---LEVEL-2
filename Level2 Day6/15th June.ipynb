{
 "cells": [
  {
   "cell_type": "code",
   "execution_count": 7,
   "metadata": {},
   "outputs": [
    {
     "ename": "IndexError",
     "evalue": "list index out of range",
     "output_type": "error",
     "traceback": [
      "\u001b[1;31m---------------------------------------------------------------------------\u001b[0m",
      "\u001b[1;31mIndexError\u001b[0m                                Traceback (most recent call last)",
      "\u001b[1;32m<ipython-input-7-c7102745a622>\u001b[0m in \u001b[0;36m<module>\u001b[1;34m\u001b[0m\n\u001b[0;32m      8\u001b[0m     \u001b[0mp1\u001b[0m\u001b[1;33m.\u001b[0m\u001b[0mappend\u001b[0m\u001b[1;33m(\u001b[0m\u001b[0mabs\u001b[0m\u001b[1;33m(\u001b[0m\u001b[0mi\u001b[0m\u001b[1;33m)\u001b[0m\u001b[1;33m)\u001b[0m\u001b[1;33m\u001b[0m\u001b[1;33m\u001b[0m\u001b[0m\n\u001b[0;32m      9\u001b[0m \u001b[0mp1\u001b[0m\u001b[1;33m.\u001b[0m\u001b[0msort\u001b[0m\u001b[1;33m(\u001b[0m\u001b[1;33m)\u001b[0m\u001b[1;33m\u001b[0m\u001b[1;33m\u001b[0m\u001b[0m\n\u001b[1;32m---> 10\u001b[1;33m \u001b[1;32mif\u001b[0m \u001b[0mp1\u001b[0m\u001b[1;33m[\u001b[0m\u001b[1;36m10\u001b[0m\u001b[1;33m]\u001b[0m \u001b[1;32min\u001b[0m \u001b[0mli\u001b[0m\u001b[1;33m:\u001b[0m\u001b[1;33m\u001b[0m\u001b[1;33m\u001b[0m\u001b[0m\n\u001b[0m\u001b[0;32m     11\u001b[0m     \u001b[0mprint\u001b[0m\u001b[1;33m(\u001b[0m\u001b[0mp1\u001b[0m\u001b[1;33m[\u001b[0m\u001b[1;36m0\u001b[0m\u001b[1;33m]\u001b[0m\u001b[1;33m)\u001b[0m\u001b[1;33m\u001b[0m\u001b[1;33m\u001b[0m\u001b[0m\n\u001b[0;32m     12\u001b[0m \u001b[1;32melse\u001b[0m\u001b[1;33m:\u001b[0m\u001b[1;33m\u001b[0m\u001b[1;33m\u001b[0m\u001b[0m\n",
      "\u001b[1;31mIndexError\u001b[0m: list index out of range"
     ]
    }
   ],
   "source": [
    "li = [-1,-2,-1]\n",
    "li.sort()\n",
    "\n",
    "l1 = [-1,-2,-4,-1]\n",
    "\n",
    "p1 = []\n",
    "for i in li:\n",
    "    p1.append(abs(i))\n",
    "p1.sort()\n",
    "\n",
    "if p1[10] in li:\n",
    "    print(p1[0])\n",
    "else:\n",
    "    print(-p1[0])\n",
    "    "
   ]
  },
  {
   "cell_type": "code",
   "execution_count": 39,
   "metadata": {},
   "outputs": [
    {
     "data": {
      "text/plain": [
       "98"
      ]
     },
     "execution_count": 39,
     "metadata": {},
     "output_type": "execute_result"
    }
   ],
   "source": [
    "# You are given three numbers. a,b and c. \n",
    "# Write a program to find the largest number \n",
    "# which is less than or equal to c and leaves remainder b when divided by a.\n",
    "# 3,2,9\n",
    "# 1,2,4\n",
    "\n",
    "def largest(a,b,c):\n",
    "    # less than or equal to c\n",
    "    # leaves remainder b when divided by a.\n",
    "    # x % a == b \n",
    "    # x <= c\n",
    "    # for i in reversed(range(0,c)):\n",
    "    for i in range(c,0,-1):\n",
    "        if i % a == b:\n",
    "            return i\n",
    "    return -1\n",
    "largest(3,2,100)\n",
    " \n",
    "    \n",
    "\n"
   ]
  },
  {
   "cell_type": "code",
   "execution_count": 84,
   "metadata": {},
   "outputs": [
    {
     "data": {
      "text/plain": [
       "'cba'"
      ]
     },
     "execution_count": 84,
     "metadata": {},
     "output_type": "execute_result"
    }
   ],
   "source": [
    "def front_back(str):\n",
    "    if len(str) > 1:\n",
    "        fc= str[0]\n",
    "        lc = str[-1]\n",
    "        rc = str[1:-1]\n",
    "    else:\n",
    "        return str\n",
    "    return lc+rc+fc\n",
    "front_back('abc')"
   ]
  },
  {
   "cell_type": "code",
   "execution_count": 90,
   "metadata": {},
   "outputs": [
    {
     "data": {
      "text/plain": [
       "'ChoChoCho'"
      ]
     },
     "execution_count": 90,
     "metadata": {},
     "output_type": "execute_result"
    }
   ],
   "source": [
    "def front3(str):\n",
    "    return 3*str[0:3]\n",
    "front3('Chocolate')"
   ]
  },
  {
   "cell_type": "code",
   "execution_count": 101,
   "metadata": {},
   "outputs": [
    {
     "data": {
      "text/plain": [
       "'not bad'"
      ]
     },
     "execution_count": 101,
     "metadata": {},
     "output_type": "execute_result"
    }
   ],
   "source": [
    "def not_string(str):\n",
    "    if 'not' in str[0:3]:\n",
    "        return str\n",
    "    else:\n",
    "        return 'not '+str\n",
    "not_string('not bad')"
   ]
  },
  {
   "cell_type": "code",
   "execution_count": null,
   "metadata": {},
   "outputs": [],
   "source": [
    "def missing_char(str, n):\n",
    "    \n",
    "\n",
    "missing_char('kitten', 1)"
   ]
  },
  {
   "cell_type": "code",
   "execution_count": 103,
   "metadata": {},
   "outputs": [
    {
     "name": "stdout",
     "output_type": "stream",
     "text": [
      "10\n"
     ]
    }
   ],
   "source": [
    "def countDivisors(l,r,k):\n",
    "    count = 0\n",
    "    for i in range(l,r+1):\n",
    "        if i % k == 0:\n",
    "            count += 1\n",
    "    print(count)\n",
    "countDivisors(1,10,1)"
   ]
  },
  {
   "cell_type": "code",
   "execution_count": 29,
   "metadata": {},
   "outputs": [
    {
     "name": "stdout",
     "output_type": "stream",
     "text": [
      "5\n",
      "120\n"
     ]
    }
   ],
   "source": [
    "def fact(n):\n",
    "    fact = 1\n",
    "    if n > 1:\n",
    "        for i in range(1,n+1):\n",
    "            fact *= i\n",
    "        print(fact)\n",
    "    else:\n",
    "        print(fact)\n",
    "n = int(input())\n",
    "fact(n)"
   ]
  },
  {
   "cell_type": "code",
   "execution_count": null,
   "metadata": {},
   "outputs": [],
   "source": [
    "def toggleString(s):\n",
    "    t = ''\n",
    "    for i in s:\n",
    "        if i.isupper():\n",
    "            t += i.lower()\n",
    "        else:\n",
    "            t += i.upper()\n",
    "    return t\n",
    "        \n",
    "s= input()\n",
    "toggleString(s)"
   ]
  },
  {
   "cell_type": "code",
   "execution_count": 48,
   "metadata": {},
   "outputs": [
    {
     "name": "stdout",
     "output_type": "stream",
     "text": [
      "NO\n"
     ]
    }
   ],
   "source": [
    "def palin(s):\n",
    "    if s == s[::-1]:\n",
    "        print('YES')\n",
    "    else:\n",
    "        print('NO')\n",
    "palin('madamfasdfa')"
   ]
  },
  {
   "cell_type": "code",
   "execution_count": 76,
   "metadata": {},
   "outputs": [
    {
     "name": "stdout",
     "output_type": "stream",
     "text": [
      "989\n",
      "2 3 5 7 11 13 17 19 23 29 31 37 41 43 47 53 59 61 67 71 73 79 83 89 97 101 103 107 109 113 127 131 137 139 149 151 157 163 167 173 179 181 191 193 197 199 211 223 227 229 233 239 241 251 257 263 269 271 277 281 283 293 307 311 313 317 331 337 347 349 353 359 367 373 379 383 389 397 401 409 419 421 431 433 439 443 449 457 461 463 467 479 487 491 499 503 509 521 523 541 547 557 563 569 571 577 587 593 599 601 607 613 617 619 631 641 643 647 653 659 661 673 677 683 691 701 709 719 727 733 739 743 751 757 761 769 773 787 797 809 811 821 823 827 829 839 853 857 859 863 877 881 883 887 907 911 919 929 937 941 947 953 967 971 977 983 "
     ]
    }
   ],
   "source": [
    "def prime(ub):\n",
    "    for num in range(0,ub+1):\n",
    "        if num > 1:\n",
    "            for i in range(2,num):\n",
    "                if num % i == 0:\n",
    "                    break\n",
    "            else:\n",
    "                print(num, end=\" \")\n",
    "ub = int(input())\n",
    "prime(ub)"
   ]
  },
  {
   "cell_type": "code",
   "execution_count": 24,
   "metadata": {},
   "outputs": [
    {
     "name": "stdout",
     "output_type": "stream",
     "text": [
      "3\n",
      "1 44 2 14\n",
      "0 30\n",
      "2 42 8 23\n",
      "5 41\n",
      "3 70 3 45\n",
      "-1 35\n"
     ]
    }
   ],
   "source": [
    "def duration(w1):\n",
    "    h1 = int(w1[0])*60 + int(w1[1])\n",
    "    h2 = int(w1[2])*60 + int(w1[3])\n",
    "    print((h2-h1)//60, (h2-h1)%60)\n",
    "\n",
    "w = int(input())\n",
    "for i in range(w):\n",
    "    w1 = input().split()\n",
    "    duration(w1)"
   ]
  },
  {
   "cell_type": "code",
   "execution_count": null,
   "metadata": {},
   "outputs": [
    {
     "name": "stdout",
     "output_type": "stream",
     "text": [
      "5 3\n",
      "5 6 7 8 9 \n",
      "3 5\n",
      "8\n"
     ]
    }
   ],
   "source": [
    "def playWithNumbers(L,R):\n",
    "    sum = count = 0\n",
    "    for k in range(L,R+1):\n",
    "        sum += elements[k-1]\n",
    "        count += 1\n",
    "    avg = sum//count\n",
    "    print(avg)\n",
    "\n",
    "N,Q =list(map(int, input().split()))\n",
    "elements = list(map(int, input().split()))\n",
    "for j in range(Q):\n",
    "    L,R = list(map(int, input().split()))\n",
    "    playWithNumbers(L,R)"
   ]
  },
  {
   "cell_type": "code",
   "execution_count": null,
   "metadata": {},
   "outputs": [],
   "source": [
    "def twoStrings(s1,s2):\n",
    "        t1 = sorted(s1)\n",
    "        t2 = sorted(s2)\n",
    "        if t1 == t2:\n",
    "            print('YES')\n",
    "        else:\n",
    "            print('NO')\n",
    "inp = input()\n",
    "for i in range(int(inp)):\n",
    "    s1,s2 = input().split()\n",
    "    twoStrings(s1,s2)"
   ]
  },
  {
   "cell_type": "code",
   "execution_count": 8,
   "metadata": {},
   "outputs": [
    {
     "name": "stdout",
     "output_type": "stream",
     "text": [
      "yes\n"
     ]
    }
   ],
   "source": [
    "1"
   ]
  },
  {
   "cell_type": "code",
   "execution_count": null,
   "metadata": {},
   "outputs": [],
   "source": []
  }
 ],
 "metadata": {
  "kernelspec": {
   "display_name": "Python 3",
   "language": "python",
   "name": "python3"
  },
  "language_info": {
   "codemirror_mode": {
    "name": "ipython",
    "version": 3
   },
   "file_extension": ".py",
   "mimetype": "text/x-python",
   "name": "python",
   "nbconvert_exporter": "python",
   "pygments_lexer": "ipython3",
   "version": "3.7.3"
  }
 },
 "nbformat": 4,
 "nbformat_minor": 2
}
