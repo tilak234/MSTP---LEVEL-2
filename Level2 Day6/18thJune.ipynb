{
 "cells": [
  {
   "cell_type": "markdown",
   "metadata": {},
   "source": [
    "**Problem 4**\n",
    "A Special number is defined as a number which has at least P distinct prime factors.\n",
    "Write a program to determine whether a number N is a special number\n",
    "\n",
    "**Input Format**\n",
    "- First Line: P\n",
    "- Second Line: T (number of test cases)\n",
    "- Next T lines: N\n",
    "\n",
    "**Output Format**\n",
    "\n",
    "- For each test case, print YES or NO depending on the result.\n",
    "**Constrains**\n",
    "- 1 <= T <= 20\n",
    "- 1 <= N <= 10^7\n",
    "- 1 <= P <= N\n",
    "\n",
    "\n",
    "**Sample Input**\n",
    "\n",
    "- 2\n",
    "- 6\n",
    "- 1       NO\n",
    "- 6       YES\n",
    "- 7       NO\n",
    "- 8       NO"
   ]
  },
  {
   "cell_type": "code",
   "execution_count": 33,
   "metadata": {},
   "outputs": [
    {
     "ename": "SyntaxError",
     "evalue": "unexpected EOF while parsing (<ipython-input-33-857c6d2a7fd4>, line 24)",
     "output_type": "error",
     "traceback": [
      "\u001b[1;36m  File \u001b[1;32m\"<ipython-input-33-857c6d2a7fd4>\"\u001b[1;36m, line \u001b[1;32m24\u001b[0m\n\u001b[1;33m    \u001b[0m\n\u001b[1;37m    ^\u001b[0m\n\u001b[1;31mSyntaxError\u001b[0m\u001b[1;31m:\u001b[0m unexpected EOF while parsing\n"
     ]
    }
   ],
   "source": [
    "# function to check prime\n",
    "# function to determine no.of prime factors for a given\n",
    "\n",
    "def isPrime(n):\n",
    "    if n == 2:\n",
    "        return True\n",
    "    for i in range(2,n):\n",
    "        if n % i == 0:\n",
    "            return False\n",
    "        else:\n",
    "            return True\n",
    "\n",
    "def factors(m):\n",
    "    for j in range(1,m):\n",
    "        if m%j == 0:\n",
    "            print(j)\n",
    "factors()\n",
    "\n",
    "def numberOfPrimeFactors(o):\n",
    "    if isPrime(o):\n",
    "        return 1\n",
    "    count = 0\n",
    "    for k in range(2,o//2+1):\n",
    "        if isprime(i) and o%k == 0:\n",
    "            \n",
    "        \n",
    "    \n",
    "    \n",
    "    "
   ]
  },
  {
   "cell_type": "markdown",
   "metadata": {},
   "source": [
    "### Tuples\n",
    "\n",
    "t1 = ()\n",
    "\n",
    "l1 = []\n",
    "\n",
    "Difference between Lists and Tuples\n",
    "- Access,Modify, Add, Delete data\n",
    "\n",
    "lists are mutable - can be changable /modified\n",
    "Tuples are immutable - can't be changad once initialized\n",
    "- Used to access data only\n",
    "- All slicing work\n",
    "\n"
   ]
  },
  {
   "cell_type": "code",
   "execution_count": 50,
   "metadata": {},
   "outputs": [],
   "source": [
    "t1= (1,2,3,4,5,6)"
   ]
  },
  {
   "cell_type": "code",
   "execution_count": 51,
   "metadata": {},
   "outputs": [
    {
     "data": {
      "text/plain": [
       "(4, 5, 6)"
      ]
     },
     "execution_count": 51,
     "metadata": {},
     "output_type": "execute_result"
    }
   ],
   "source": [
    "t1[len(t1)//2:]"
   ]
  },
  {
   "cell_type": "markdown",
   "metadata": {},
   "source": [
    "### Dictionaries\n",
    "It works on the concept of set unique data\n",
    "Keys,Values\n",
    "\n",
    "Key is the unique idnetifier to the follow is data that can be access with a key\n"
   ]
  },
  {
   "cell_type": "code",
   "execution_count": 61,
   "metadata": {},
   "outputs": [
    {
     "data": {
      "text/plain": [
       "dict_values(['value1', 'value2', 'value3'])"
      ]
     },
     "execution_count": 61,
     "metadata": {},
     "output_type": "execute_result"
    }
   ],
   "source": [
    "d1 = {\"k1\":\"value1\",\"k2\":\"value2\",\"k3\":\"value3\"}\n",
    "d1.items()\n",
    "d1.keys()\n",
    "d1.values()"
   ]
  },
  {
   "cell_type": "code",
   "execution_count": 63,
   "metadata": {},
   "outputs": [
    {
     "data": {
      "text/plain": [
       "{'k1': 'value1', 'k2': 'value2', 'k3': 'value3'}"
      ]
     },
     "execution_count": 63,
     "metadata": {},
     "output_type": "execute_result"
    }
   ],
   "source": [
    "d1"
   ]
  },
  {
   "cell_type": "markdown",
   "metadata": {},
   "source": [
    "# Contacts Application\n",
    "- Add Contacts\n",
    "- Search Contacts\n",
    "- Modify Contacts\n",
    "- Remove Contact\n",
    "- list of all contacts"
   ]
  },
  {
   "cell_type": "code",
   "execution_count": 95,
   "metadata": {},
   "outputs": [],
   "source": [
    "contacts = {}\n",
    "def addContact(name,phone):\n",
    "    # verify contact exist or not\n",
    "    if name not in contacts:\n",
    "        contacts[name] = phone\n",
    "        print(\"Contact %s added\" % name)\n",
    "    else:\n",
    "        print(\"contact %s already exists\" % name)\n",
    "    return"
   ]
  },
  {
   "cell_type": "code",
   "execution_count": 89,
   "metadata": {},
   "outputs": [
    {
     "name": "stdout",
     "output_type": "stream",
     "text": [
      "tilak : 8985898556\n"
     ]
    }
   ],
   "source": [
    "def searchContacts(name):\n",
    "    if name in contacts:\n",
    "        print(name,\":\" , contacts[name])\n",
    "    else:\n",
    "        print(\"%s doesnot exist\" % name)\n",
    "    return\n",
    "searchContacts(\"tilak\")"
   ]
  },
  {
   "cell_type": "code",
   "execution_count": 133,
   "metadata": {},
   "outputs": [
    {
     "name": "stdout",
     "output_type": "stream",
     "text": [
      "Contact Harideep added\n"
     ]
    }
   ],
   "source": [
    "addContact('Harideep','8985898556')"
   ]
  },
  {
   "cell_type": "code",
   "execution_count": 129,
   "metadata": {},
   "outputs": [],
   "source": [
    "def allContacts():\n",
    "    for i in contacts:\n",
    "        print(i,\":\",contacts[i])"
   ]
  },
  {
   "cell_type": "code",
   "execution_count": 138,
   "metadata": {},
   "outputs": [
    {
     "name": "stdout",
     "output_type": "stream",
     "text": [
      "Mahesh : 9494759595\n",
      "Tilak : 8985898556\n",
      "Harideep : 8985898556\n",
      "Raviteja : 8801720204\n",
      "Manasa : 8374415682\n"
     ]
    }
   ],
   "source": [
    "allContacts()"
   ]
  },
  {
   "cell_type": "code",
   "execution_count": 117,
   "metadata": {},
   "outputs": [],
   "source": [
    "def modifyContact(name,phone):\n",
    "    if name in contacts:\n",
    "        contacts[name] = phone\n",
    "        print(\"%s : %s updated successfully\" %(name,phone))\n",
    "    else:\n",
    "        print(\"%s doesnot exist\" % name)"
   ]
  },
  {
   "cell_type": "code",
   "execution_count": 118,
   "metadata": {},
   "outputs": [
    {
     "name": "stdout",
     "output_type": "stream",
     "text": [
      "Tilak : 8989898989 updated successfully\n"
     ]
    }
   ],
   "source": [
    "modifyContact(\"Tilak\",\"8989898989\")"
   ]
  },
  {
   "cell_type": "code",
   "execution_count": 126,
   "metadata": {},
   "outputs": [
    {
     "data": {
      "text/plain": [
       "{'Mahesh': '9494759595'}"
      ]
     },
     "execution_count": 126,
     "metadata": {},
     "output_type": "execute_result"
    }
   ],
   "source": [
    "contacts"
   ]
  },
  {
   "cell_type": "code",
   "execution_count": 127,
   "metadata": {},
   "outputs": [],
   "source": [
    "def removeContact(name):\n",
    "    if name in contacts:\n",
    "        contacts.pop(name)\n",
    "        print(\"%s : deleted successfully\" %name)\n",
    "    else:\n",
    "        print(\"%s doesnot exist\" % name)"
   ]
  },
  {
   "cell_type": "code",
   "execution_count": 128,
   "metadata": {},
   "outputs": [
    {
     "name": "stdout",
     "output_type": "stream",
     "text": [
      "Tilakfasda doesnot exist\n"
     ]
    }
   ],
   "source": [
    "removeContact(\"Tilakfasda\")"
   ]
  },
  {
   "cell_type": "code",
   "execution_count": 151,
   "metadata": {},
   "outputs": [],
   "source": [
    "def importContact(newContacts):\n",
    "    contacts.update(newContacts)\n",
    "    print(\"%s Contacts imported successfully\" %len(contacts))"
   ]
  },
  {
   "cell_type": "code",
   "execution_count": 152,
   "metadata": {},
   "outputs": [
    {
     "name": "stdout",
     "output_type": "stream",
     "text": [
      "4 Contacts imported successfully\n"
     ]
    }
   ],
   "source": [
    "newContacts = {'Raviteja':\"8801720204\",'Manasa':\"8374415682\"}\n",
    "importContact(newContacts)"
   ]
  },
  {
   "cell_type": "code",
   "execution_count": 137,
   "metadata": {},
   "outputs": [
    {
     "data": {
      "text/plain": [
       "{'Mahesh': '9494759595',\n",
       " 'Tilak': '8985898556',\n",
       " 'Harideep': '8985898556',\n",
       " 'Raviteja': '8801720204',\n",
       " 'Manasa': '8374415682'}"
      ]
     },
     "execution_count": 137,
     "metadata": {},
     "output_type": "execute_result"
    }
   ],
   "source": [
    "contacts"
   ]
  },
  {
   "cell_type": "markdown",
   "metadata": {},
   "source": [
    "# Contacts Application(Dictionaries)"
   ]
  },
  {
   "cell_type": "code",
   "execution_count": 2,
   "metadata": {},
   "outputs": [],
   "source": [
    "contacts = {}\n",
    "\n",
    "def addContact(name,phone):\n",
    "    # verify contact exist or not\n",
    "    if name not in contacts:\n",
    "        contacts[name] = phone\n",
    "        print(\"Contact %s added\" % name)\n",
    "    else:\n",
    "        print(\"contact %s already exists\" % name)\n",
    "    return\n",
    "\n",
    "def searchContacts(name):\n",
    "    if name in contacts:\n",
    "        print(name,\":\" , contacts[name])\n",
    "    else:\n",
    "        print(\"%s doesnot exist\" % name)\n",
    "    return\n",
    "\n",
    "def allContacts():\n",
    "    for i in contacts:\n",
    "        print(i,\":\",contacts[i])\n",
    "    return\n",
    "\n",
    "def modifyContact(name,phone):\n",
    "    if name in contacts:\n",
    "        contacts[name] = phone\n",
    "        print(\"%s : %s updated successfully\" %(name,phone))\n",
    "    else:\n",
    "        print(\"%s doesnot exist\" % name)\n",
    "\n",
    "def removeContact(name):\n",
    "    if name in contacts:\n",
    "        contacts.pop(name)\n",
    "        print(\"%s : deleted successfully\" %name)\n",
    "    else:\n",
    "        print(\"%s doesnot exist\" % name)\n",
    "        \n",
    "def importContact(newContacts):\n",
    "    contacts.update(newContacts)\n",
    "    print(\"%s Contacts imported successfully\" %len(newContacts))"
   ]
  },
  {
   "cell_type": "markdown",
   "metadata": {},
   "source": [
    "# Packages and Modules\n",
    "\n",
    "- **Package** -> Collection of Modules and subpackages\n",
    "- **Sub-Package** -> \n",
    "- **Modules** -> A single python file containing various classes and functions"
   ]
  },
  {
   "cell_type": "code",
   "execution_count": 179,
   "metadata": {},
   "outputs": [
    {
     "data": {
      "text/plain": [
       "123"
      ]
     },
     "execution_count": 179,
     "metadata": {},
     "output_type": "execute_result"
    }
   ],
   "source": [
    "import math\n",
    "\n",
    "math.floor(123.456)"
   ]
  },
  {
   "cell_type": "code",
   "execution_count": 166,
   "metadata": {},
   "outputs": [
    {
     "data": {
      "text/plain": [
       "120"
      ]
     },
     "execution_count": 166,
     "metadata": {},
     "output_type": "execute_result"
    }
   ],
   "source": [
    "math.factorial(5)"
   ]
  },
  {
   "cell_type": "code",
   "execution_count": 167,
   "metadata": {},
   "outputs": [
    {
     "data": {
      "text/plain": [
       "3.141592653589793"
      ]
     },
     "execution_count": 167,
     "metadata": {},
     "output_type": "execute_result"
    }
   ],
   "source": [
    "math.pi"
   ]
  },
  {
   "cell_type": "code",
   "execution_count": 171,
   "metadata": {},
   "outputs": [
    {
     "data": {
      "text/plain": [
       "4"
      ]
     },
     "execution_count": 171,
     "metadata": {},
     "output_type": "execute_result"
    }
   ],
   "source": [
    "math.gcd(8,28)"
   ]
  },
  {
   "cell_type": "code",
   "execution_count": 184,
   "metadata": {},
   "outputs": [
    {
     "name": "stdout",
     "output_type": "stream",
     "text": [
      "65 26 6 75 38 56 87 19 73 29 50 65 54 42 17 "
     ]
    }
   ],
   "source": [
    "# define a function to generate N random numbers in a given range\n",
    "import random\n",
    "\n",
    "def generateRandomNumbers(N,lb,ub):\n",
    "    for i in range(N):\n",
    "        print(random.randint(lb,ub),end=\" \")\n",
    "generateRandomNumbers(15,0,100)"
   ]
  },
  {
   "cell_type": "markdown",
   "metadata": {},
   "source": [
    "# Build a package\n",
    "-\n",
    "-\n",
    "-\n",
    "-\n",
    "-\n",
    "-\n",
    "-\n"
   ]
  },
  {
   "cell_type": "code",
   "execution_count": 191,
   "metadata": {},
   "outputs": [
    {
     "ename": "ModuleNotFoundError",
     "evalue": "No module named 'Package'",
     "output_type": "error",
     "traceback": [
      "\u001b[1;31m---------------------------------------------------------------------------\u001b[0m",
      "\u001b[1;31mModuleNotFoundError\u001b[0m                       Traceback (most recent call last)",
      "\u001b[1;32m<ipython-input-191-272cce5078e5>\u001b[0m in \u001b[0;36m<module>\u001b[1;34m\u001b[0m\n\u001b[1;32m----> 1\u001b[1;33m \u001b[1;32mimport\u001b[0m \u001b[0mPackage\u001b[0m\u001b[1;33m\u001b[0m\u001b[1;33m\u001b[0m\u001b[0m\n\u001b[0m",
      "\u001b[1;31mModuleNotFoundError\u001b[0m: No module named 'Package'"
     ]
    }
   ],
   "source": [
    "import Package\n"
   ]
  },
  {
   "cell_type": "code",
   "execution_count": 9,
   "metadata": {},
   "outputs": [],
   "source": [
    "from Packages import contact"
   ]
  },
  {
   "cell_type": "code",
   "execution_count": 10,
   "metadata": {},
   "outputs": [
    {
     "data": {
      "text/plain": [
       "['__builtins__',\n",
       " '__cached__',\n",
       " '__doc__',\n",
       " '__file__',\n",
       " '__loader__',\n",
       " '__name__',\n",
       " '__package__',\n",
       " '__spec__',\n",
       " 'addContact',\n",
       " 'allContacts',\n",
       " 'contacts',\n",
       " 'importContact',\n",
       " 'modifyContact',\n",
       " 'removeContact',\n",
       " 'searchContacts']"
      ]
     },
     "execution_count": 10,
     "metadata": {},
     "output_type": "execute_result"
    }
   ],
   "source": [
    "dir(contact)"
   ]
  },
  {
   "cell_type": "code",
   "execution_count": 13,
   "metadata": {},
   "outputs": [
    {
     "name": "stdout",
     "output_type": "stream",
     "text": [
      "Mahesh : 9494759595\n",
      "Tilak : 8985898556\n",
      "Harideep : 8985898556\n",
      "Raviteja : 8801720204\n",
      "Manasa : 8374415682\n"
     ]
    }
   ],
   "source": [
    "contact.allContacts()"
   ]
  },
  {
   "cell_type": "code",
   "execution_count": 5,
   "metadata": {},
   "outputs": [
    {
     "name": "stdout",
     "output_type": "stream",
     "text": [
      "Contact Tilak added\n"
     ]
    }
   ],
   "source": [
    "contact.addContact('Tilak','8985898556')"
   ]
  },
  {
   "cell_type": "code",
   "execution_count": 12,
   "metadata": {},
   "outputs": [
    {
     "name": "stdout",
     "output_type": "stream",
     "text": [
      "5 Contacts imported successfully\n"
     ]
    }
   ],
   "source": [
    "new = {'Mahesh': '9494759595',\n",
    " 'Tilak': '8985898556',\n",
    " 'Harideep': '8985898556',\n",
    " 'Raviteja': '8801720204',\n",
    " 'Manasa': '8374415682'}\n",
    "contact.importContact(new)"
   ]
  },
  {
   "cell_type": "code",
   "execution_count": null,
   "metadata": {},
   "outputs": [],
   "source": []
  }
 ],
 "metadata": {
  "kernelspec": {
   "display_name": "Python 3",
   "language": "python",
   "name": "python3"
  },
  "language_info": {
   "codemirror_mode": {
    "name": "ipython",
    "version": 3
   },
   "file_extension": ".py",
   "mimetype": "text/x-python",
   "name": "python",
   "nbconvert_exporter": "python",
   "pygments_lexer": "ipython3",
   "version": "3.7.3"
  }
 },
 "nbformat": 4,
 "nbformat_minor": 2
}
