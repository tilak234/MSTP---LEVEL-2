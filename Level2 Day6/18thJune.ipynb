{
 "cells": [
  {
   "cell_type": "markdown",
   "metadata": {},
   "source": [
    "**Problem 4**\n",
    "A Special number is defined as a number which has at least P distinct prime factors.\n",
    "Write a program to determine whether a number N is a special number\n",
    "\n",
    "**Input Format**\n",
    "- First Line: P\n",
    "- Second Line: T (number of test cases)\n",
    "- Next T lines: N\n",
    "\n",
    "**Output Format**\n",
    "\n",
    "- For each test case, print YES or NO depending on the result.\n",
    "**Constrains**\n",
    "- 1 <= T <= 20\n",
    "- 1 <= N <= 10^7\n",
    "- 1 <= P <= N\n",
    "\n",
    "\n",
    "**Sample Input**\n",
    "\n",
    "- 2\n",
    "- 6\n",
    "- 1       NO\n",
    "- 6       YES\n",
    "- 7       NO\n",
    "- 8       NO"
   ]
  },
  {
   "cell_type": "code",
   "execution_count": 33,
   "metadata": {},
   "outputs": [
    {
     "ename": "SyntaxError",
     "evalue": "unexpected EOF while parsing (<ipython-input-33-857c6d2a7fd4>, line 24)",
     "output_type": "error",
     "traceback": [
      "\u001b[1;36m  File \u001b[1;32m\"<ipython-input-33-857c6d2a7fd4>\"\u001b[1;36m, line \u001b[1;32m24\u001b[0m\n\u001b[1;33m    \u001b[0m\n\u001b[1;37m    ^\u001b[0m\n\u001b[1;31mSyntaxError\u001b[0m\u001b[1;31m:\u001b[0m unexpected EOF while parsing\n"
     ]
    }
   ],
   "source": [
    "# function to check prime\n",
    "# function to determine no.of prime factors for a given\n",
    "\n",
    "def isPrime(n):\n",
    "    if n == 2:\n",
    "        return True\n",
    "    for i in range(2,n):\n",
    "        if n % i == 0:\n",
    "            return False\n",
    "        else:\n",
    "            return True\n",
    "\n",
    "def factors(m):\n",
    "    for j in range(1,m):\n",
    "        if m%j == 0:\n",
    "            print(j)\n",
    "factors()\n",
    "\n",
    "def numberOfPrimeFactors(o):\n",
    "    if isPrime(o):\n",
    "        return 1\n",
    "    count = 0\n",
    "    for k in range(2,o//2+1):\n",
    "        if isprime(i) and o%k == 0:\n",
    "            \n",
    "        \n",
    "    \n",
    "    \n",
    "    "
   ]
  },
  {
   "cell_type": "code",
   "execution_count": null,
   "metadata": {},
   "outputs": [],
   "source": []
  }
 ],
 "metadata": {
  "kernelspec": {
   "display_name": "Python 3",
   "language": "python",
   "name": "python3"
  },
  "language_info": {
   "codemirror_mode": {
    "name": "ipython",
    "version": 3
   },
   "file_extension": ".py",
   "mimetype": "text/x-python",
   "name": "python",
   "nbconvert_exporter": "python",
   "pygments_lexer": "ipython3",
   "version": "3.7.3"
  }
 },
 "nbformat": 4,
 "nbformat_minor": 2
}
