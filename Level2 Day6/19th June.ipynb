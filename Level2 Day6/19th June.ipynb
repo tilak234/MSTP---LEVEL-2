{
 "cells": [
  {
   "cell_type": "markdown",
   "metadata": {},
   "source": [
    "### Anagram\n",
    "\n",
    "Given two strings, a and b , that may or may not be of the same length, determine the minimum number of character deletions required to make a and b anagrams. Any characters can be deleted from either of the strings.\n",
    "\n",
    "Input : <br>\n",
    "\n",
    "test cases,t\n",
    "two strings a and b, for each test case\n",
    "Output:\n",
    "\n",
    "Desired O/p\n",
    "\n",
    "Constraints : <br>\n",
    "\n",
    "string lengths<=10000\n",
    "\n",
    "Note : <br>\n",
    "\n",
    "Anagram of a word is formed by rearranging the letters of the word.\n",
    "\n",
    "For e.g. -> For the word RAM - MAR,ARM,AMR,RMA etc. are few anagrams.\n",
    "\n",
    "SAMPLE INPUT \n",
    "<br>\n",
    "1\n",
    "\n",
    "cde\n",
    " \n",
    "abc <br>\n",
    "SAMPLE OUTPUT \n",
    "<br>\n",
    "4"
   ]
  },
  {
   "cell_type": "code",
   "execution_count": null,
   "metadata": {},
   "outputs": [
    {
     "name": "stdout",
     "output_type": "stream",
     "text": [
      "10\n",
      "tttttttttttttttttttttttttttttttttttttsssssssssssssssss\n",
      "sssssssssssssssssssssssssssssssssssssssssssssssssssssssssssssssssssssssssssssssssssssss\n",
      "37\n",
      "aaaaaaaaaaaaaaaaaaaaaaaaaaaaa\n",
      "bbbbbbbbbbbbbbbbbbbbbbbbbbbbbbbbbbbbbbbbbbbbbbbbbbbbbbbbbbbbbbbbbbbbbbbbbbb\n",
      "104\n"
     ]
    }
   ],
   "source": [
    "def anagram(s1,s2):\n",
    "    s1count = s2count = 0\n",
    "    if(sorted(s1) == sorted(s2)):\n",
    "        print(\"Anagram\")\n",
    "    else:\n",
    "        for i in s1:\n",
    "            if i in s2:\n",
    "                #print(i)\n",
    "                continue\n",
    "            else:\n",
    "                s1count += 1\n",
    "        for j in s2:\n",
    "            if j in s1:\n",
    "                #print(i)\n",
    "                continue\n",
    "            else:\n",
    "                s2count += 1\n",
    "    print(s1count+s2count)\n",
    "\n",
    "    \n",
    "inp = int(input())\n",
    "for i in range(inp):\n",
    "    str1 = input()\n",
    "    str2 = input()\n",
    "    anagram(str1,str2)"
   ]
  },
  {
   "cell_type": "code",
   "execution_count": null,
   "metadata": {},
   "outputs": [],
   "source": []
  }
 ],
 "metadata": {
  "kernelspec": {
   "display_name": "Python 3",
   "language": "python",
   "name": "python3"
  },
  "language_info": {
   "codemirror_mode": {
    "name": "ipython",
    "version": 3
   },
   "file_extension": ".py",
   "mimetype": "text/x-python",
   "name": "python",
   "nbconvert_exporter": "python",
   "pygments_lexer": "ipython3",
   "version": "3.7.3"
  }
 },
 "nbformat": 4,
 "nbformat_minor": 2
}
