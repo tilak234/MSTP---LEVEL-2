{
 "cells": [
  {
   "cell_type": "markdown",
   "metadata": {},
   "source": [
    "#Find Product\n",
    "You have been given an array  _A_  of size  _N_  consisting of positive integers. You need to find and print the product of all the number in this array  **Modulo**  109+7.\n",
    "\n",
    "**Input Format**:  \n",
    "The first line contains a single integer  _N_  denoting the size of the array. The next line contains  _N_  space separated integers denoting the elements of the array\n",
    "\n",
    "**Output Format**:  \n",
    "Print a single integer denoting the product of all the elements of the array Modulo  109+7.\n",
    "\n",
    "**Constraints**:  \n",
    "1≤N≤103  \n",
    "1≤A[i]≤103\n",
    "\n",
    "SAMPLE INPUT\n",
    "\n",
    "5\n",
    "1 2 3 4 5\n",
    "\n",
    "SAMPLE OUTPUT\n",
    "\n",
    "120\n",
    "\n",
    "Explanation\n",
    "\n",
    "There are  _5_  integers to multiply. Let's store the final answer in  answer  variable. Since  _1_  is identity value for multiplication, initialize  answer  as  _1_.\n",
    "\n",
    "So the process goes as follows:\n",
    "\n",
    "answer=1  \n",
    "answer=(answer×1) %  (109+7)  \n",
    "answer=(answer×2) %  (109+7)  \n",
    "answer=(answer×3) %  (109+7)  \n",
    "answer=(answer×4) %  (109+7)  \n",
    "answer=(answer×5) %  (109+7)\n",
    "\n",
    "The above process will yield answer as  120"
   ]
  },
  {
   "cell_type": "markdown",
   "metadata": {},
   "source": [
    "### Regular Expressions - https://regex101.com/\n",
    "- Pattern Matching\n",
    "- Symbolic Notation of a pattern\n",
    "    - Pattern : Format which repeats\n",
    "    - Pattern(RE) - The set of all values matches particular\n",
    "- [0-9] -> Any Digit\n",
    "- [a-z] -> Any lower case alphabet\n",
    "- [2468]-> alll single digit multiples of 2\n",
    "- [8642] --> all signle digit muliples\n",
    "- ^[0-9]{1} --> Only single digit number\n",
    "- ^[0-9]{3} --> 3 digits only\n",
    "- [0-9]*0$   -> All multiples of 10\n",
    "- ^[1-9][0-9]*[05]|([5])$   -> All multiples of 5\n",
    "  "
   ]
  },
  {
   "cell_type": "code",
   "execution_count": null,
   "metadata": {},
   "outputs": [],
   "source": []
  }
 ],
 "metadata": {
  "kernelspec": {
   "display_name": "Python 3",
   "language": "python",
   "name": "python3"
  },
  "language_info": {
   "codemirror_mode": {
    "name": "ipython",
    "version": 3
   },
   "file_extension": ".py",
   "mimetype": "text/x-python",
   "name": "python",
   "nbconvert_exporter": "python",
   "pygments_lexer": "ipython3",
   "version": "3.7.3"
  }
 },
 "nbformat": 4,
 "nbformat_minor": 2
}
