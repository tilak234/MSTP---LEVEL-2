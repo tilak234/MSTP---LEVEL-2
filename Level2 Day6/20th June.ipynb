{
 "cells": [
  {
   "cell_type": "markdown",
   "metadata": {},
   "source": [
    "#Find Product\n",
    "You have been given an array  _A_  of size  _N_  consisting of positive integers. You need to find and print the product of all the number in this array  **Modulo**  109+7.\n",
    "\n",
    "**Input Format**:  \n",
    "The first line contains a single integer  _N_  denoting the size of the array. The next line contains  _N_  space separated integers denoting the elements of the array\n",
    "\n",
    "**Output Format**:  \n",
    "Print a single integer denoting the product of all the elements of the array Modulo  109+7.\n",
    "\n",
    "**Constraints**:  \n",
    "1≤N≤103  \n",
    "1≤A[i]≤103\n",
    "\n",
    "SAMPLE INPUT\n",
    "\n",
    "5\n",
    "1 2 3 4 5\n",
    "\n",
    "SAMPLE OUTPUT\n",
    "\n",
    "120\n",
    "\n",
    "Explanation\n",
    "\n",
    "There are  _5_  integers to multiply. Let's store the final answer in  answer  variable. Since  _1_  is identity value for multiplication, initialize  answer  as  _1_.\n",
    "\n",
    "So the process goes as follows:\n",
    "\n",
    "answer=1  \n",
    "answer=(answer×1) %  (109+7)  \n",
    "answer=(answer×2) %  (109+7)  \n",
    "answer=(answer×3) %  (109+7)  \n",
    "answer=(answer×4) %  (109+7)  \n",
    "answer=(answer×5) %  (109+7)\n",
    "\n",
    "The above process will yield answer as  120"
   ]
  },
  {
   "cell_type": "markdown",
   "metadata": {},
   "source": [
    "### Regular Expressions - https://regex101.com/\n",
    "- Pattern Matching\n",
    "- Symbolic Notation of a pattern\n",
    "    - Pattern : Format which repeats\n",
    "    - Pattern(RE) - The set of all values matches particular\n",
    "- [0-9] -> Any Digit\n",
    "- [a-z] -> Any lower case alphabet\n",
    "- [2468]-> alll single digit multiples of 2\n",
    "- [8642] --> all signle digit muliples\n",
    "- ^[0-9]{1} --> Only single digit number\n",
    "- ^[0-9]{3} --> 3 digits only\n",
    "- ^[1-9][0-9]{9}$   --> All multiples of 10\n",
    "- ^[1-9][0-9]*[05]|([5])$   --> All multiples of 5\n",
    "- ^[1-9][0-9]{9}$          --> All 10 digit number\n",
    "- (print) or [p][r][i][n][t]       --> searching for a word 'print'\n",
    "- ^[6-9][0-9]{9}|^[0-9][0-9]{10}|^[+91]{10}$ --> Mobile Number validation\n",
    "- Email Validation: - ^[0-9a-z][0-9a-z_.]{4,14}[@][a-z0-9]{3,15}[.][a-z]{2,4}$\n",
    "    - username :\n",
    "        - length of username : (6,15)\n",
    "        - No special characters except . and _\n",
    "        - Should not begin and end with . and _\n",
    "        - Character set : all digits and lowercase alphabet\n",
    "    - domain : \n",
    "        - Length of domain : [3,15]\n",
    "        - No special characters\n",
    "        - Character set: all digits and lowercase alphabet\n",
    "    - extension : com,in\n",
    "        - Length of extension : [2,4]\n",
    "        - No special character\n",
    "        - Charater Set: lower case alphabet\n",
    "- Any string of any length starting with 'a' and ending with 'z' : ^[a].*[z]\n",
    "- starting with 'a' and ending with 'z' should have 5 only: ^[a]...[z]\n",
    "\n",
    "\n",
    "\n",
    "  "
   ]
  },
  {
   "cell_type": "code",
   "execution_count": 8,
   "metadata": {},
   "outputs": [
    {
     "data": {
      "text/plain": [
       "['O', '4', 'z', 'z23']"
      ]
     },
     "execution_count": 8,
     "metadata": {},
     "output_type": "execute_result"
    }
   ],
   "source": [
    "import re\n",
    "re.split('[a-f]+','Oab4azcfz23')"
   ]
  },
  {
   "cell_type": "code",
   "execution_count": 16,
   "metadata": {},
   "outputs": [
    {
     "name": "stdout",
     "output_type": "stream",
     "text": [
      "Invalid Number\n"
     ]
    }
   ],
   "source": [
    "#Function to validate a phone number in python\n",
    "import re\n",
    "def phoneNumberValidator(number):\n",
    "    pattern = '^[6-9][0-9]{9}$|^[6-9][0-9]{9}|^[+91]{10}$'\n",
    "    if re.match(pattern,str(number)):\n",
    "        print(\"%s is a Valid Number\" %number)\n",
    "    else:\n",
    "        print(\"Invalid Number\")\n",
    "\n",
    "phoneNumberValidator(898589855)"
   ]
  },
  {
   "cell_type": "markdown",
   "metadata": {},
   "source": [
    "# Contacts Application(Dictionaries) \n",
    "#### 18th June 2019"
   ]
  },
  {
   "cell_type": "code",
   "execution_count": 53,
   "metadata": {},
   "outputs": [],
   "source": [
    "import re\n",
    "contacts = {}\n",
    "\n",
    "def emailValidator(email):\n",
    "    pattern = '^[0-9a-z][0-9a-z_.]{4,14}[@][a-z0-9]{3,15}[.][a-z]{2,4}'\n",
    "    if re.match(pattern,str(email)):\n",
    "        return True\n",
    "    else:\n",
    "        return False\n",
    "emailValidator('babutilak234@gmail.com')\n",
    "\n",
    "def phoneNumberValidator(number):\n",
    "    pattern = '^[6-9][0-9]{9}$|^[6-9][0-9]{9}|^[+91]{10}$'\n",
    "    if re.match(pattern,str(number)):\n",
    "        return True\n",
    "    else:\n",
    "        return False\n",
    "\n",
    "def addContact(name,phone,email):\n",
    "    # verify contact exist or not\n",
    "    det = []\n",
    "    if name in contacts:\n",
    "        print(name,\" Already exits\")\n",
    "    else:\n",
    "        if not emailValidator(email):\n",
    "            print(\"Invalid email\")\n",
    "        elif not  phoneNumberValidator(phone):\n",
    "            print(\"Invalid phone number \")\n",
    "        else:\n",
    "            det.append(phone)\n",
    "            det.append(email)\n",
    "            contacts[name] = det\n",
    "            print(\"Contact %s added\" % name)\n",
    "\n",
    "def searchContacts(name):\n",
    "    if name in contacts:\n",
    "        print(name,\":\" , contacts[name])\n",
    "    else:\n",
    "        print(\"%s doesnot exist\" % name)\n",
    "    return\n",
    "\n",
    "def allContacts():\n",
    "    for i in contacts:\n",
    "        print(i,\":\",contacts[i])\n",
    "    return\n",
    "\n",
    "def modifyContact(name,phone):\n",
    "    if name in contacts:\n",
    "        contacts[name] = phone\n",
    "        print(\"%s : %s updated successfully\" %(name,phone))\n",
    "    else:\n",
    "        print(\"%s doesnot exist\" % name)\n",
    "\n",
    "def removeContact(name):\n",
    "    if name in contacts:\n",
    "        contacts.pop(name)\n",
    "        print(\"%s : deleted successfully\" %name)\n",
    "    else:\n",
    "        print(\"%s doesnot exist\" % name)\n",
    "        \n",
    "def importContact(newContacts):\n",
    "    contacts.update(newContacts)\n",
    "    print(\"%s Contacts imported successfully\" %len(newContacts))"
   ]
  },
  {
   "cell_type": "code",
   "execution_count": 51,
   "metadata": {},
   "outputs": [
    {
     "name": "stdout",
     "output_type": "stream",
     "text": [
      "Contact Tilak added\n"
     ]
    }
   ],
   "source": [
    "contacts = {}\n",
    "\n",
    "addContact('Tilak',8985898556,'babutilak234@gmail.com')"
   ]
  },
  {
   "cell_type": "code",
   "execution_count": 52,
   "metadata": {},
   "outputs": [
    {
     "data": {
      "text/plain": [
       "{'Tilak': [8985898556, 'babutilak234@gmail.com']}"
      ]
     },
     "execution_count": 52,
     "metadata": {},
     "output_type": "execute_result"
    }
   ],
   "source": [
    "contacts"
   ]
  },
  {
   "cell_type": "code",
   "execution_count": null,
   "metadata": {},
   "outputs": [],
   "source": []
  }
 ],
 "metadata": {
  "kernelspec": {
   "display_name": "Python 3",
   "language": "python",
   "name": "python3"
  },
  "language_info": {
   "codemirror_mode": {
    "name": "ipython",
    "version": 3
   },
   "file_extension": ".py",
   "mimetype": "text/x-python",
   "name": "python",
   "nbconvert_exporter": "python",
   "pygments_lexer": "ipython3",
   "version": "3.7.3"
  }
 },
 "nbformat": 4,
 "nbformat_minor": 2
}
