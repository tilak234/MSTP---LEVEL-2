{
 "cells": [
  {
   "cell_type": "code",
   "execution_count": 2,
   "metadata": {},
   "outputs": [
    {
     "name": "stdout",
     "output_type": "stream",
     "text": [
      "5\n"
     ]
    }
   ],
   "source": [
    "# Seating Arrangement\n",
    "\n",
    "def seatingArrangement(N):\n",
    "    return\n",
    "    \n",
    "    \n",
    "    \n",
    "inp = int(input())\n",
    "for i in range(inp):\n",
    "    seatingArrangement(i)"
   ]
  },
  {
   "cell_type": "markdown",
   "metadata": {},
   "source": [
    "## Contacts Application using Files concepts"
   ]
  },
  {
   "cell_type": "code",
   "execution_count": 20,
   "metadata": {},
   "outputs": [],
   "source": [
    "\n",
    "\n",
    "def searchContacts(name):\n",
    "    with open(filename) as f:\n",
    "        datafile = f.readlines()\n",
    "    for line in datafile:\n",
    "        if name in line:\n",
    "            print(line)\n",
    "            break\n",
    "    return False\n",
    "\n",
    "def allContacts():\n",
    "    f = open(filename,'r')\n",
    "    filedata = f.read()\n",
    "    f.close()\n",
    "    for line in filedata.split('\\n'):\n",
    "        print(line)"
   ]
  },
  {
   "cell_type": "code",
   "execution_count": 51,
   "metadata": {},
   "outputs": [
    {
     "name": "stdout",
     "output_type": "stream",
     "text": [
      "<class 'tuple'>\n",
      "Mahesh : updated successfully\n"
     ]
    }
   ],
   "source": [
    "def modifyContact(name,phone,email):\n",
    "    with open(filename, 'a') as f:\n",
    "        for line in contacts.items():\n",
    "            if name in line:\n",
    "                f.write(name.strip(\"\\n\"))\n",
    "                print(type(line))\n",
    "                print(\"%s : updated successfully\" %(name))\n",
    "modifyContact('Mahesh',8989898989,'babu.tilak234@gmail.com')"
   ]
  },
  {
   "cell_type": "code",
   "execution_count": 80,
   "metadata": {},
   "outputs": [
    {
     "name": "stdout",
     "output_type": "stream",
     "text": [
      "Hacker_earth\n"
     ]
    }
   ],
   "source": [
    "# string.replace(old, new, count)\n",
    "string = 'HackerEarth'\n",
    "ns = ''\n",
    "for idx,i in enumerate(string):\n",
    "    if idx==0:\n",
    "        continue\n",
    "    elif i.isupper():\n",
    "        string= string.replace(i,'_'+i.lower())\n",
    "    else:\n",
    "        continue\n",
    "print(string)"
   ]
  },
  {
   "cell_type": "code",
   "execution_count": 109,
   "metadata": {},
   "outputs": [
    {
     "name": "stdout",
     "output_type": "stream",
     "text": [
      "Mahesh already exists\n"
     ]
    }
   ],
   "source": [
    "from Packages import validators\n",
    "\n",
    "def addContact(name,phone,email):\n",
    "    # Store data as name,phone,email in the contacts data file\n",
    "    filename = 'DataFiles/contacts.txt'\n",
    "    if not checkContactExists(name):\n",
    "        if phoneNumberValidator(phone):\n",
    "            if emailValidator(email):\n",
    "                with open(filename, 'a') as f:\n",
    "                    line = name +','+ str(phone) +','+ email + '\\n'\n",
    "                    f.write(line)\n",
    "                print(\"%s added to contacts\" % name)\n",
    "    else:\n",
    "        print(\"%s already exists\" %name)\n",
    "addContact('Mahesh', 9988776655,'babu.tilak234@gmail.com')\n",
    "\n",
    "import re\n",
    "# Function to check if contact alreay exists\n",
    "def checkContactExists(name):\n",
    "    filename = 'DataFiles/contacts.txt'\n",
    "    with open(filename, 'r') as f:\n",
    "        filedata = f.read()\n",
    "        pattern = name+','\n",
    "        return re.search(pattern, filedata)\n",
    "    if checkContactExists(\"Tilak\"):\n",
    "        return True\n",
    "    else:\n",
    "        return False"
   ]
  },
  {
   "cell_type": "markdown",
   "metadata": {},
   "source": [
    " "
   ]
  }
 ],
 "metadata": {
  "kernelspec": {
   "display_name": "Python 3",
   "language": "python",
   "name": "python3"
  },
  "language_info": {
   "codemirror_mode": {
    "name": "ipython",
    "version": 3
   },
   "file_extension": ".py",
   "mimetype": "text/x-python",
   "name": "python",
   "nbconvert_exporter": "python",
   "pygments_lexer": "ipython3",
   "version": "3.7.3"
  }
 },
 "nbformat": 4,
 "nbformat_minor": 2
}
