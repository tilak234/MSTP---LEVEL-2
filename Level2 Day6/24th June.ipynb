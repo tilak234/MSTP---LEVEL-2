{
 "cells": [
  {
   "cell_type": "code",
   "execution_count": 8,
   "metadata": {},
   "outputs": [
    {
     "name": "stdout",
     "output_type": "stream",
     "text": [
      "{\n",
      "4\n"
     ]
    }
   ],
   "source": [
    "def cipher(S,K):\n",
    "    nS=''\n",
    "    for i in range(len(S)):\n",
    "        if S[i].isnumeric():\n",
    "            if int(S[i])+K >= 10:\n",
    "                d = int(S[i])+K-10\n",
    "                nS += str(d)\n",
    "            else:\n",
    "                d = (int(S[i])+K)%9-1\n",
    "                nS+= str(d)\n",
    "        elif S[i].isidentifier():\n",
    "            sym = chr(ord(S[i])+ord(chr(K)))\n",
    "            if str(sym) >= str(ord('Z')):\n",
    "                print(sym)\n",
    "            nS+=sym\n",
    "        else:\n",
    "            nS+=S[i]\n",
    "            #nS+=chr(ord(S[i])+ord(chr(K)))\n",
    "#     nS+=chr(ord(S[i])+ord(chr(K)))\n",
    "#     print(nS)\n",
    "inp = input()\n",
    "tK = int(input())\n",
    "cipher(inp,tK)"
   ]
  },
  {
   "cell_type": "code",
   "execution_count": 30,
   "metadata": {},
   "outputs": [],
   "source": [
    "def uniqueData(li):\n",
    "    # Create an empty unique list\n",
    "    unique = []    \n",
    "    # For every element in the main list, \n",
    "        # check if it exists in the unique list.\n",
    "        # If it does not exist, add it to unique list\n",
    "        # else if it already exists, move on to the next element in the main list   \n",
    "    for element in li:\n",
    "        if element not in unique:\n",
    "            unique.append(element)\n",
    "    return unique\n",
    "\n",
    "li = [1,2,3,3,2,1]"
   ]
  },
  {
   "cell_type": "code",
   "execution_count": 18,
   "metadata": {},
   "outputs": [
    {
     "data": {
      "text/plain": [
       "'Return whether an object is an instance of a class or of a subclass thereof.\\n\\nA tuple, as in ``isinstance(x, (A, B, ...))``, may be given as the target to\\ncheck against. This is equivalent to ``isinstance(x, A) or isinstance(x, B)\\nor ...`` etc.'"
      ]
     },
     "execution_count": 18,
     "metadata": {},
     "output_type": "execute_result"
    }
   ],
   "source": [
    "isinstance.__doc__"
   ]
  },
  {
   "cell_type": "code",
   "execution_count": 24,
   "metadata": {},
   "outputs": [
    {
     "data": {
      "text/plain": [
       "4"
      ]
     },
     "execution_count": 24,
     "metadata": {},
     "output_type": "execute_result"
    }
   ],
   "source": [
    "# Function to count the number of words in a file\n",
    "import re\n",
    "\n",
    "def wordCountFile(filepath):\n",
    "    pattern = '[ \\n]'\n",
    "    filedata = readFile(filepath)\n",
    "    count = len(re.split(pattern, filedata))\n",
    "    return count\n",
    "filepath = 'DataFiles/contacts.txt'\n",
    "wordCountFile(filepath)"
   ]
  },
  {
   "cell_type": "code",
   "execution_count": 22,
   "metadata": {},
   "outputs": [
    {
     "name": "stdout",
     "output_type": "stream",
     "text": [
      "Tilak Babu 8985898556 tilakbabu.b@apssdc.in \n",
      "\n",
      "Tilak Babu 8985898556 tilakbabu.b@apssdc.in \n",
      "\n",
      "Tilak Babu 8985898556 tilakbabu.b@apssdc.in \n",
      "\n",
      "Tilak Babu 8985898556 tilakbabu.b@apssdc.in \n",
      "\n",
      "Tilak Babu 8985898556 tilakbabu.b@apssdc.in \n",
      "\n",
      "Tilak Babu 8985898556 tilakbabu.b@apssdc.in \n",
      "\n",
      "\n"
     ]
    }
   ],
   "source": [
    "\n",
    "# Read a File - File should exist(Read Mode)\n",
    "# Write to a File - Existing(append mode) or New File(Write mode)\n",
    "\n",
    "# Function to read entire file data into a single string - Character Processing\n",
    "def readFile(filepath):\n",
    "    with open(filepath, 'r') as f:\n",
    "        filedata = f.read() # Reads the entire file data into a string\n",
    "    return filedata\n",
    "\n",
    "filepath = 'DataFiles/data.txt'\n",
    "print(readFile(filepath))"
   ]
  },
  {
   "cell_type": "code",
   "execution_count": 32,
   "metadata": {},
   "outputs": [
    {
     "ename": "SyntaxError",
     "evalue": "invalid syntax (<ipython-input-32-035011121b91>, line 9)",
     "output_type": "error",
     "traceback": [
      "\u001b[1;36m  File \u001b[1;32m\"<ipython-input-32-035011121b91>\"\u001b[1;36m, line \u001b[1;32m9\u001b[0m\n\u001b[1;33m    for element in:\u001b[0m\n\u001b[1;37m                  ^\u001b[0m\n\u001b[1;31mSyntaxError\u001b[0m\u001b[1;31m:\u001b[0m invalid syntax\n"
     ]
    }
   ],
   "source": [
    "def wordsFromFile(filepath):\n",
    "    # All words is eqyal \n",
    "    for word in uniuedata:\n",
    "        count(\"all words\")\n",
    "\n",
    "\n",
    "def uniqeData(filepath):\n",
    "    for element in filepath:\n",
    "        if element not in unique:\n",
    "            unique.append(element)\n",
    "    return unique\n",
    "\n",
    "allwords = words[\"uniqueData\"])"
   ]
  },
  {
   "cell_type": "code",
   "execution_count": 35,
   "metadata": {},
   "outputs": [
    {
     "ename": "NameError",
     "evalue": "name 'wordsFromFile' is not defined",
     "output_type": "error",
     "traceback": [
      "\u001b[1;31m---------------------------------------------------------------------------\u001b[0m",
      "\u001b[1;31mNameError\u001b[0m                                 Traceback (most recent call last)",
      "\u001b[1;32m<ipython-input-35-eef0ddd9d5fa>\u001b[0m in \u001b[0;36m<module>\u001b[1;34m\u001b[0m\n\u001b[0;32m     12\u001b[0m \u001b[1;33m\u001b[0m\u001b[0m\n\u001b[0;32m     13\u001b[0m \u001b[0mfilepath\u001b[0m \u001b[1;33m=\u001b[0m \u001b[1;34m'DataFiles/contacts.txt'\u001b[0m\u001b[1;33m\u001b[0m\u001b[1;33m\u001b[0m\u001b[0m\n\u001b[1;32m---> 14\u001b[1;33m \u001b[0mFrequencyDistribution2\u001b[0m\u001b[1;33m(\u001b[0m\u001b[0mfilepath\u001b[0m\u001b[1;33m)\u001b[0m\u001b[1;33m\u001b[0m\u001b[1;33m\u001b[0m\u001b[0m\n\u001b[0m",
      "\u001b[1;32m<ipython-input-35-eef0ddd9d5fa>\u001b[0m in \u001b[0;36mFrequencyDistribution2\u001b[1;34m(filepath)\u001b[0m\n\u001b[0;32m      1\u001b[0m \u001b[1;32mdef\u001b[0m \u001b[0mFrequencyDistribution2\u001b[0m\u001b[1;33m(\u001b[0m\u001b[0mfilepath\u001b[0m\u001b[1;33m)\u001b[0m\u001b[1;33m:\u001b[0m\u001b[1;33m\u001b[0m\u001b[1;33m\u001b[0m\u001b[0m\n\u001b[1;32m----> 2\u001b[1;33m     \u001b[0mallwords\u001b[0m \u001b[1;33m=\u001b[0m \u001b[0mwordsFromFile\u001b[0m\u001b[1;33m(\u001b[0m\u001b[0mfilepath\u001b[0m\u001b[1;33m)\u001b[0m\u001b[1;33m\u001b[0m\u001b[1;33m\u001b[0m\u001b[0m\n\u001b[0m\u001b[0;32m      3\u001b[0m     \u001b[0mwordFrequence\u001b[0m \u001b[1;33m=\u001b[0m \u001b[1;33m{\u001b[0m\u001b[1;33m}\u001b[0m\u001b[1;33m\u001b[0m\u001b[1;33m\u001b[0m\u001b[0m\n\u001b[0;32m      4\u001b[0m \u001b[1;33m\u001b[0m\u001b[0m\n\u001b[0;32m      5\u001b[0m     \u001b[1;32mfor\u001b[0m \u001b[0mword\u001b[0m \u001b[1;32min\u001b[0m \u001b[0mallwords\u001b[0m\u001b[1;33m:\u001b[0m\u001b[1;33m\u001b[0m\u001b[1;33m\u001b[0m\u001b[0m\n",
      "\u001b[1;31mNameError\u001b[0m: name 'wordsFromFile' is not defined"
     ]
    }
   ],
   "source": [
    "\n",
    "\n",
    "def FrequencyDistribution2(filepath):\n",
    "    allwords = wordsFromFile(filepath)\n",
    "    wordFrequence = {}\n",
    "    \n",
    "    for word in allwords:\n",
    "        if word not in wordFrequence.keys():\n",
    "            wordFrequence[word] = 1\n",
    "        else:\n",
    "            wordFrequence[word] += 1\n",
    "    return wordFrequence\n",
    "    \n",
    "\n",
    "filepath = 'DataFiles/contacts.txt'\n",
    "FrequencyDistribution2(filepath)"
   ]
  },
  {
   "cell_type": "code",
   "execution_count": 36,
   "metadata": {},
   "outputs": [],
   "source": [
    "# Find and Replace Application\n",
    "    # Count the total number of occurances of a word \n",
    "    # If word is existing\n",
    "    # Replace all occurances of a word with another word"
   ]
  },
  {
   "cell_type": "code",
   "execution_count": 44,
   "metadata": {},
   "outputs": [
    {
     "name": "stdout",
     "output_type": "stream",
     "text": [
      "500  Students marks data generated successfully\n"
     ]
    }
   ],
   "source": [
    "# Marks Analysis Application\n",
    "    # Generate marks file - for N Students\n",
    "    #Input : Marks text file - each line containing \n",
    "    # Generates a report with the following information\n",
    "        # Class Average:\n",
    "        # % of students passed\n",
    "        # % of students failed\n",
    "        # % of students with distinction\n",
    "        # \n",
    "from random import randint\n",
    "def generateMarks(n, lb, ub):\n",
    "    with open('DataFiles/Marks.txt', 'w') as f:\n",
    "        for i in range(0,n):\n",
    "            r = randint(lb,ub)\n",
    "            f.write(str(r)+'\\n')\n",
    "        print(n,\" Students marks data generated successfully\")\n",
    "generateMarks(500,0,100)"
   ]
  },
  {
   "cell_type": "code",
   "execution_count": null,
   "metadata": {},
   "outputs": [],
   "source": []
  }
 ],
 "metadata": {
  "kernelspec": {
   "display_name": "Python 3",
   "language": "python",
   "name": "python3"
  },
  "language_info": {
   "codemirror_mode": {
    "name": "ipython",
    "version": 3
   },
   "file_extension": ".py",
   "mimetype": "text/x-python",
   "name": "python",
   "nbconvert_exporter": "python",
   "pygments_lexer": "ipython3",
   "version": "3.7.3"
  }
 },
 "nbformat": 4,
 "nbformat_minor": 2
}
