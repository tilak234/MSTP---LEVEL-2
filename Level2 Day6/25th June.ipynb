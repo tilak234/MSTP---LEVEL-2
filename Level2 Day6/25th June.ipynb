{
 "cells": [
  {
   "cell_type": "markdown",
   "metadata": {},
   "source": [
    "### String Methods"
   ]
  },
  {
   "cell_type": "code",
   "execution_count": 6,
   "metadata": {},
   "outputs": [
    {
     "data": {
      "text/plain": [
       "4"
      ]
     },
     "execution_count": 6,
     "metadata": {},
     "output_type": "execute_result"
    }
   ],
   "source": [
    "s= 'APSSDCAPSSDCAPSSDCAPSSDCAPSSDCAPSSDCAPSSDCAPSSDCAPSSDCAPSSDC'\n",
    "s.index('D')"
   ]
  },
  {
   "cell_type": "code",
   "execution_count": 30,
   "metadata": {},
   "outputs": [
    {
     "data": {
      "text/plain": [
       "'apssdc'"
      ]
     },
     "execution_count": 30,
     "metadata": {},
     "output_type": "execute_result"
    }
   ],
   "source": [
    "s = 'APSSDC'\n",
    "s.casefold()"
   ]
  },
  {
   "cell_type": "code",
   "execution_count": 33,
   "metadata": {},
   "outputs": [
    {
     "name": "stdout",
     "output_type": "stream",
     "text": [
      "45\n"
     ]
    }
   ],
   "source": [
    "#Sum of digits\n",
    "n =123456789\n",
    "sum = 0\n",
    "\n",
    "while n:\n",
    "    sum += n %10\n",
    "    n //= 10\n",
    "print(sum)"
   ]
  },
  {
   "cell_type": "code",
   "execution_count": 41,
   "metadata": {},
   "outputs": [
    {
     "name": "stdout",
     "output_type": "stream",
     "text": [
      "A P S S D   C\n"
     ]
    }
   ],
   "source": [
    "l = [10,20,30,40,50]\n",
    "s = 'APSSD C'\n",
    "print(*s)"
   ]
  },
  {
   "cell_type": "code",
   "execution_count": 48,
   "metadata": {},
   "outputs": [
    {
     "data": {
      "text/plain": [
       "('AP', 'SS', 'DC')"
      ]
     },
     "execution_count": 48,
     "metadata": {},
     "output_type": "execute_result"
    }
   ],
   "source": [
    "s = 'APSSDC'\n",
    "s.partition('SS')"
   ]
  },
  {
   "cell_type": "markdown",
   "metadata": {},
   "source": [
    "### Find and Replace"
   ]
  },
  {
   "cell_type": "code",
   "execution_count": 116,
   "metadata": {},
   "outputs": [
    {
     "name": "stdout",
     "output_type": "stream",
     "text": [
      "Enter Old Stringtilak\n",
      "Enter New Stringcode\n",
      "File updated successfully with  tilak to code\n"
     ]
    }
   ],
   "source": [
    "# Function for replacing all occurences of a word in a given file\n",
    "\n",
    "\n",
    "# Python is an interpreted, high-level, general-purpose programming language. Created by Guido van Rossum and first released in 1991, Python's design philosophy emphasizes code readability with its notable use of significant whitespace.\n",
    "# Python\n",
    "# pythoN\n",
    "# pytHON\n",
    "# PYThon\n",
    "\n",
    "def findAndReplace(fileLocation, old_word, new_word):\n",
    "    import re\n",
    "    l2 = []\n",
    "    with open(fileLocation,'r') as data:\n",
    "        for line in data:\n",
    "            words = line.split(\"\\n\")\n",
    "            l2.append(re.sub(old_word,new_word,line))\n",
    "    with open(fileLocation,'w') as rep:\n",
    "        rep.write(''.join(l2))\n",
    "        print(\"File updated successfully with \",old_word,\"to\", new_word)\n",
    "fl = 'DataFiles/data.txt'\n",
    "ow = input(\"Enter Old String\")\n",
    "nw = input(\"Enter New String\")\n",
    "findAndReplace(fl,ow,nw)"
   ]
  },
  {
   "cell_type": "code",
   "execution_count": 148,
   "metadata": {},
   "outputs": [
    {
     "name": "stdout",
     "output_type": "stream",
     "text": [
      "['a', 'a', 'a', 'a', 'a', 'a', 'a', 'e', 'e', 'e', 'e', 'e', 'e', 'e', 'e', 'e', 'e', 'e', 'g', 'g', 'g', 'k', 'k', 'k', 'k', 'k', 'k', 'k', 'l', 'l', 'l', 'l', 'l', 'l', 'l', 'l', 'l', 'l', 'l', 'l', 'l']\n"
     ]
    }
   ],
   "source": [
    "import re\n",
    "a = ['Apple']\n",
    "for i in a:\n",
    "    x+= re.findall('[a-m]',i)\n",
    "print(sorted(x))"
   ]
  },
  {
   "cell_type": "code",
   "execution_count": 159,
   "metadata": {},
   "outputs": [
    {
     "name": "stdout",
     "output_type": "stream",
     "text": [
      "100\n",
      "1\n",
      "1000 1000\n",
      "ACCEPTED\n"
     ]
    }
   ],
   "source": [
    "def profilePic(W,H):\n",
    "    # if W,H is less than L --> UPLOAD ANOTHER\n",
    "    # if W,H is greate than and then square --> ACCEPTED\n",
    "    # else --> CROP IT\n",
    "    if W < L or H < L:\n",
    "        print(\"UPLOAD ANOTHER\")\n",
    "    elif(W == H):\n",
    "        print(\"ACCEPTED\")\n",
    "    else:\n",
    "        print(\"CROP IT\")\n",
    "\n",
    "L = int(input())\n",
    "N = int(input())\n",
    "for i in range(0,N):\n",
    "    W,H = list(map(int, input().split()))\n",
    "    profilePic(W,H)"
   ]
  },
  {
   "cell_type": "code",
   "execution_count": 174,
   "metadata": {},
   "outputs": [
    {
     "data": {
      "text/plain": [
       "-1"
      ]
     },
     "execution_count": 174,
     "metadata": {},
     "output_type": "execute_result"
    }
   ],
   "source": [
    "def largestFreq(s,k):\n",
    "    unique = []\n",
    "    freq = {}\n",
    "    \n",
    "    for i in s:\n",
    "        if i not in freq.keys():\n",
    "            freq[i] = s.count(i)\n",
    "    values = sorted(freq.values(), reverse=True)\n",
    "    uniqueValues = list(set(values))\n",
    "    sorted(uniqueValues, reverse = True)\n",
    "    # Identify Kth largest frequency\n",
    "    if k < len(uniqueValues):\n",
    "        kvalue = uniqueValues[k-1]\n",
    "    else:\n",
    "        return -1\n",
    "    # Get all elements with Kth largest\n",
    "    li = []\n",
    "    for item in freq.items():\n",
    "        if item[1] == kvalue:\n",
    "            li.append(item[0])\n",
    "    # Minimum of Kth Largest frequency\n",
    "    return min(li)\n",
    "largestFreq('aabcd', 3)"
   ]
  },
  {
   "cell_type": "code",
   "execution_count": null,
   "metadata": {},
   "outputs": [],
   "source": []
  }
 ],
 "metadata": {
  "kernelspec": {
   "display_name": "Python 3",
   "language": "python",
   "name": "python3"
  },
  "language_info": {
   "codemirror_mode": {
    "name": "ipython",
    "version": 3
   },
   "file_extension": ".py",
   "mimetype": "text/x-python",
   "name": "python",
   "nbconvert_exporter": "python",
   "pygments_lexer": "ipython3",
   "version": "3.7.3"
  }
 },
 "nbformat": 4,
 "nbformat_minor": 2
}
