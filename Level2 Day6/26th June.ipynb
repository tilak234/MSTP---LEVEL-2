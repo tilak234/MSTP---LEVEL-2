{
 "cells": [
  {
   "cell_type": "markdown",
   "metadata": {},
   "source": [
    "# Marks Generation"
   ]
  },
  {
   "cell_type": "code",
   "execution_count": null,
   "metadata": {},
   "outputs": [
    {
     "name": "stdout",
     "output_type": "stream",
     "text": [
      " Enter 1 for Student Data Generation\n",
      "                      Enter 2 for Exit\n",
      "        1\n",
      "Howmany students data needed???1\n",
      "StudentData20190626170248.csv Generated Successfully\n",
      " Enter 1 for Student Data Generation\n",
      "                      Enter 2 for Exit\n",
      "        2\n",
      " Enter 1 for Student Data Generation\n",
      "                      Enter 2 for Exit\n",
      "        2\n"
     ]
    }
   ],
   "source": [
    "# 1. Student Data Generation\n",
    "from __future__ import with_statement\n",
    "import random\n",
    "import csv\n",
    "import datetime\n",
    "\n",
    "\n",
    "def studentDataGeneration():\n",
    "    #pre-defined list of names included in names.py\n",
    "    from Packages import names\n",
    "    #filename with current time\n",
    "    dt = str(datetime.datetime.now().strftime('%Y%m%d%H%M%S'))\n",
    "    filename = 'StudentData'+dt+'.csv'\n",
    "    num = int(input(\"Howmany students data needed???\"))\n",
    "\n",
    "    #create StudentData file in folder - StudentData\n",
    "    with open('DataFiles/'+filename,'w', newline='') as myfile:\n",
    "        columnTitleRow = \"Student Name, Subject-I \\n\"\n",
    "        myfile.write(columnTitleRow)\n",
    "\n",
    "        for i in range(num):\n",
    "            #Random Name Generation using names.py data    \n",
    "            name = random.choice(names.first_names)+' '+random.choice(names.last_names)\n",
    "            #Random Marks Generation\n",
    "            s1 = random.randint(0,100)\n",
    "            row = [name,s1]\n",
    "            wr = csv.writer(myfile)\n",
    "            wr.writerow(row)\n",
    "        #close file\n",
    "        myfile.close()\n",
    "    print(filename+ \" Generated Successfully\")\n",
    "\n",
    "    \n",
    "# 1.Report Generation\n",
    "\n",
    "def reportGen():\n",
    "    filename = input(\"Enter file name - \")\n",
    "    #filename with current time\n",
    "    dt = str(datetime.datetime.now().strftime('%Y%m%d%H%M%S'))\n",
    "    #report file\n",
    "    report = 'Report'+dt+'.txt'\n",
    "\n",
    "    #reading csv file\n",
    "    #marks list variable for storing all student marks\n",
    "    marks = []\n",
    "    try:\n",
    "        #Data files always storing in DataFiles folder\n",
    "        with open('DataFiles/'+filename) as csvfile:\n",
    "            readCSV = csv.reader(csvfile, delimiter=',')\n",
    "            next(readCSV, None) # skip header line\n",
    "            for tot,row in enumerate(readCSV):\n",
    "                    marks += [int(row[1])]\n",
    "\n",
    "            fcount=scount=tcount=flcount = 0\n",
    "            for fc in marks:\n",
    "                    if(fc>=80):\n",
    "                            fcount += 1\n",
    "                    elif(fc>65 and fc<80):\n",
    "                            scount += 1\n",
    "                    elif(fc>45 and fc<65):\n",
    "                            tcount += 1\n",
    "                    elif(fc<30):\n",
    "                            flcount += 1\n",
    "    except EnvironmentError:\n",
    "        print(\"File Not Found\")\n",
    "        exit()\n",
    "\n",
    "    #creating Report file in folder - ReportData\n",
    "    rp = open('DataFiles/'+report,'w')\n",
    "\n",
    "    #writing to text file Total Students,First Class,Second Class,Third Class,Failed Students,Highest Mark,Average Mark,Lowest Mark \n",
    "    rp.write(\"Student Report - Dated on \"+str(datetime.datetime.now())+\"\\n\\n\\n\")\n",
    "    rp.write(\"Total Students:\"+str(len(marks))+\"\\n\")\n",
    "    rp.write(\"Highest Mark:\"+str(max(marks))+\"\\n\")\n",
    "    rp.write(\"Lowest Mark:\"+str(min(marks))+\"\\n\")\n",
    "    rp.write(\"Average Mark:\"+str(round(sum(marks)/len(marks)))+\"\\n\")\n",
    "    rp.write(\"First Class:\"+str(fcount)+\"\\n\")\n",
    "    rp.write(\"Second Class:\"+str(scount)+\"\\n\")\n",
    "    rp.write(\"Third Class:\"+str(tcount)+\"\\n\")\n",
    "    rp.write(\"Failed Students:\"+str(flcount)+\"\\n\")\n",
    "\n",
    "    #close file\n",
    "    rp.close()\n",
    "\n",
    "    print(report+ \" Generated Successfully\")\n",
    "def menu():\n",
    "    while True:\n",
    "        a = int(input(\"\"\" Enter 1 for Student Data Generation\n",
    "                      Enter 2 for Exit\n",
    "        \"\"\"))\n",
    "        if a == 1:\n",
    "            studentDataGeneration()\n",
    "        if a == 2:\n",
    "            exit()\n",
    "menu()\n",
    "# reportGen()"
   ]
  },
  {
   "cell_type": "code",
   "execution_count": 2,
   "metadata": {},
   "outputs": [
    {
     "name": "stdout",
     "output_type": "stream",
     "text": [
      "Enter file name - StudentData20190626123931.csv\n",
      "Report20190626124555.txt Generated Successfully\n"
     ]
    }
   ],
   "source": []
  },
  {
   "cell_type": "code",
   "execution_count": null,
   "metadata": {},
   "outputs": [],
   "source": []
  }
 ],
 "metadata": {
  "kernelspec": {
   "display_name": "Python 3",
   "language": "python",
   "name": "python3"
  },
  "language_info": {
   "codemirror_mode": {
    "name": "ipython",
    "version": 3
   },
   "file_extension": ".py",
   "mimetype": "text/x-python",
   "name": "python",
   "nbconvert_exporter": "python",
   "pygments_lexer": "ipython3",
   "version": "3.7.3"
  }
 },
 "nbformat": 4,
 "nbformat_minor": 2
}
