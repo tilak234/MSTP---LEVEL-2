{
 "cells": [
  {
   "cell_type": "markdown",
   "metadata": {},
   "source": [
    "# Marks Generation"
   ]
  },
  {
   "cell_type": "code",
   "execution_count": 5,
   "metadata": {},
   "outputs": [
    {
     "name": "stdout",
     "output_type": "stream",
     "text": [
      "Enter 1 for Student Data Generation\n",
      "                      Enter 2 for Exit\n",
      "        2\n",
      "Quit\n"
     ]
    }
   ],
   "source": [
    "# 1. Student Data Generation\n",
    "from __future__ import with_statement\n",
    "import random\n",
    "import csv\n",
    "import datetime\n",
    "\n",
    "\n",
    "def studentDataGeneration():\n",
    "    #pre-defined list of names included in names.py\n",
    "    from Packages import names\n",
    "    #filename with current time\n",
    "    dt = str(datetime.datetime.now().strftime('%Y%m%d%H%M%S'))\n",
    "    filename = 'StudentData'+dt+'.csv'\n",
    "    num = int(input(\"Howmany students data needed???\"))\n",
    "\n",
    "    #create StudentData file in folder - StudentData\n",
    "    with open('DataFiles/'+filename,'w', newline='') as myfile:\n",
    "        columnTitleRow = \"Student Name, Subject-I \\n\"\n",
    "        myfile.write(columnTitleRow)\n",
    "\n",
    "        for i in range(num):\n",
    "            #Random Name Generation using names.py data    \n",
    "            name = random.choice(names.first_names)+' '+random.choice(names.last_names)\n",
    "            #Random Marks Generation\n",
    "            s1 = random.randint(0,100)\n",
    "            row = [name,s1]\n",
    "            wr = csv.writer(myfile)\n",
    "            wr.writerow(row)\n",
    "        #close file\n",
    "        myfile.close()\n",
    "    print(filename+ \" Generated Successfully\")\n",
    "\n",
    "    \n",
    "# 1.Report Generation\n",
    "\n",
    "def reportGen():\n",
    "    filename = input(\"Enter file name - \")\n",
    "    #filename with current time\n",
    "    dt = str(datetime.datetime.now().strftime('%Y%m%d%H%M%S'))\n",
    "    #report file\n",
    "    report = 'Report'+dt+'.txt'\n",
    "\n",
    "    #reading csv file\n",
    "    #marks list variable for storing all student marks\n",
    "    marks = []\n",
    "    try:\n",
    "        #Data files always storing in DataFiles folder\n",
    "        with open('DataFiles/'+filename) as csvfile:\n",
    "            readCSV = csv.reader(csvfile, delimiter=',')\n",
    "            next(readCSV, None) # skip header line\n",
    "            for tot,row in enumerate(readCSV):\n",
    "                    marks += [int(row[1])]\n",
    "\n",
    "            fcount=scount=tcount=flcount = 0\n",
    "            for fc in marks:\n",
    "                    if(fc>=80):\n",
    "                            fcount += 1\n",
    "                    elif(fc>65 and fc<80):\n",
    "                            scount += 1\n",
    "                    elif(fc>45 and fc<65):\n",
    "                            tcount += 1\n",
    "                    elif(fc<30):\n",
    "                            flcount += 1\n",
    "    except EnvironmentError:\n",
    "        print(\"File Not Found\")\n",
    "        exit()\n",
    "\n",
    "    #creating Report file in folder - ReportData\n",
    "    rp = open('DataFiles/'+report,'w')\n",
    "\n",
    "    #writing to text file Total Students,First Class,Second Class,Third Class,Failed Students,Highest Mark,Average Mark,Lowest Mark \n",
    "    rp.write(\"Student Report - Dated on \"+str(datetime.datetime.now())+\"\\n\\n\\n\")\n",
    "    rp.write(\"Total Students:\"+str(len(marks))+\"\\n\")\n",
    "    rp.write(\"Highest Mark:\"+str(max(marks))+\"\\n\")\n",
    "    rp.write(\"Lowest Mark:\"+str(min(marks))+\"\\n\")\n",
    "    rp.write(\"Average Mark:\"+str(round(sum(marks)/len(marks)))+\"\\n\")\n",
    "    rp.write(\"First Class:\"+str(fcount)+\"\\n\")\n",
    "    rp.write(\"Second Class:\"+str(scount)+\"\\n\")\n",
    "    rp.write(\"Third Class:\"+str(tcount)+\"\\n\")\n",
    "    rp.write(\"Failed Students:\"+str(flcount)+\"\\n\")\n",
    "\n",
    "    #close file\n",
    "    rp.close()\n",
    "\n",
    "    print(report+ \" Generated Successfully\")\n",
    "def menu():\n",
    "    while True:\n",
    "        a = int(input(\"\"\"Enter 1 for Student Data Generation\n",
    "                      Enter 2 for Exit\n",
    "        \"\"\"))\n",
    "        if a == 1:\n",
    "            studentDataGeneration()\n",
    "        if a == 2:\n",
    "            print(\"Quit\")\n",
    "            break\n",
    "menu()\n",
    "# reportGen()"
   ]
  },
  {
   "cell_type": "code",
   "execution_count": 2,
   "metadata": {},
   "outputs": [
    {
     "name": "stdout",
     "output_type": "stream",
     "text": [
      "Enter file name - StudentData20190626123931.csv\n",
      "Report20190626124555.txt Generated Successfully\n"
     ]
    }
   ],
   "source": []
  },
  {
   "cell_type": "code",
   "execution_count": 9,
   "metadata": {},
   "outputs": [
    {
     "data": {
      "text/plain": [
       "9"
      ]
     },
     "execution_count": 9,
     "metadata": {},
     "output_type": "execute_result"
    }
   ],
   "source": [
    "#kSmallest\n",
    "\n",
    "def kSmallest(li,k):\n",
    "    unique = []\n",
    "    for i in li:\n",
    "        if i not in unique:\n",
    "            unique.append(i)\n",
    "    # Sort the Unique list in ascending order\n",
    "    unique = sorted(unique)\n",
    "    \n",
    "    # Check if length of unique list is greater than k\n",
    "    if len(unique) >= k:\n",
    "        return unique[k-1]\n",
    "    return -1\n",
    "kSmallest([3,3,9],2)"
   ]
  },
  {
   "cell_type": "code",
   "execution_count": 10,
   "metadata": {},
   "outputs": [],
   "source": [
    "# Largest number in a list\n",
    "# second largest number in a list\n",
    "# Kth largest number in a list\n"
   ]
  },
  {
   "cell_type": "code",
   "execution_count": 59,
   "metadata": {},
   "outputs": [
    {
     "data": {
      "text/plain": [
       "5"
      ]
     },
     "execution_count": 59,
     "metadata": {},
     "output_type": "execute_result"
    }
   ],
   "source": [
    "# Function to identify the element with highest frequency in a list\n",
    "# If many elements have the higest frequency ,\n",
    "    # return the smallest\n",
    "# higestFrequency Element of [1,2,3,9,8,7,4,3,2,1]  --> 1\n",
    "def highestFrequencyElement(li):\n",
    "    unique = {}\n",
    "    for n in li:\n",
    "        if n in unique:\n",
    "            unique[n] += 1\n",
    "        else:\n",
    "            unique[n] = 1\n",
    "    # unique will be {1:2,2:2,3:2,9:1,8:1,7:1,4:1}\n",
    "    # Getting all frequencies into a list \n",
    "    maxfreq = max(unique.values())\n",
    "    maxfreqE = []\n",
    "    for item in unique.items():\n",
    "        # item -> (key,value)\n",
    "        if item[1] == maxfreq:\n",
    "            maxfreqE.append(item[0])\n",
    "    #select the minimum from the keys with maximum\n",
    "    maxfreqE = sorted(maxfreqE, reverse = True)\n",
    "    return maxfreqE[0]\n",
    "highestFrequencyElement([1,2,3,4,5,5,5])"
   ]
  },
  {
   "cell_type": "code",
   "execution_count": 111,
   "metadata": {},
   "outputs": [
    {
     "name": "stdout",
     "output_type": "stream",
     "text": [
      "{1: 2, 2: 2, 3: 1, 4: 1, 5: 1}\n",
      "3\n"
     ]
    }
   ],
   "source": [
    "# Identif  second highest frequency element.\n",
    "# if there are so many such elements, return smallest\n",
    "# [1,2,3,2,1,4,4]  --> 3   explanation: 1,2,4 are first highest freq, 3 is second hihest freq\n",
    "\n",
    "def secondHighestFrequencyElement(li):\n",
    "    unique = {}\n",
    "    for n in li:\n",
    "        if n in unique:\n",
    "            unique[n] += 1\n",
    "        else:\n",
    "            unique[n] = 1\n",
    "    print(unique)\n",
    "    # unique will be {1: 2, 2: 2, 3: 1, 4: 2}\n",
    "    # Getting all frequencies into a list \n",
    "    secfreq = list(unique.values())[-2]\n",
    "    secfreqE = []\n",
    "    for item in unique.items():\n",
    "        # item -> (key,value)\n",
    "        if item[1] == secfreq:\n",
    "            secfreqE.append(item[0])\n",
    "    secfreqE = sorted(secfreqE)\n",
    "    print(secfreqE[0])\n",
    "secondHighestFrequencyElement([1,2,2,3,1,4,5])"
   ]
  },
  {
   "cell_type": "code",
   "execution_count": null,
   "metadata": {},
   "outputs": [],
   "source": []
  }
 ],
 "metadata": {
  "kernelspec": {
   "display_name": "Python 3",
   "language": "python",
   "name": "python3"
  },
  "language_info": {
   "codemirror_mode": {
    "name": "ipython",
    "version": 3
   },
   "file_extension": ".py",
   "mimetype": "text/x-python",
   "name": "python",
   "nbconvert_exporter": "python",
   "pygments_lexer": "ipython3",
   "version": "3.7.3"
  }
 },
 "nbformat": 4,
 "nbformat_minor": 2
}
