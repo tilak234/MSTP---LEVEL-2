{
 "cells": [
  {
   "cell_type": "code",
   "execution_count": 7,
   "metadata": {},
   "outputs": [
    {
     "name": "stdout",
     "output_type": "stream",
     "text": [
      "a23289343\n",
      "0 0 2 3 1 0 0 0 1 1 "
     ]
    }
   ],
   "source": [
    "def digitFreq(N):\n",
    "    l = []\n",
    "    for i in N:\n",
    "        l.append(i)\n",
    "    for j in range(10):\n",
    "        \n",
    "        a = l.count(str(j))\n",
    "        print(a, end= \" \")\n",
    "        \n",
    "inp = input()\n",
    "digitFreq(inp)"
   ]
  },
  {
   "cell_type": "code",
   "execution_count": 26,
   "metadata": {},
   "outputs": [
    {
     "name": "stdout",
     "output_type": "stream",
     "text": [
      "2345gfghjhg45678987876\n",
      "0 0 1 1 2 2 2 3 3 1\n"
     ]
    }
   ],
   "source": [
    "text=input()\n",
    "print(*list(map(text.count,map(str,range(10)))))"
   ]
  },
  {
   "cell_type": "code",
   "execution_count": 10,
   "metadata": {},
   "outputs": [
    {
     "data": {
      "text/plain": [
       "'31d47234238423'"
      ]
     },
     "execution_count": 10,
     "metadata": {},
     "output_type": "execute_result"
    }
   ],
   "source": [
    "text"
   ]
  },
  {
   "cell_type": "code",
   "execution_count": 18,
   "metadata": {},
   "outputs": [
    {
     "ename": "TypeError",
     "evalue": "'builtin_function_or_method' object is not iterable",
     "output_type": "error",
     "traceback": [
      "\u001b[1;31m---------------------------------------------------------------------------\u001b[0m",
      "\u001b[1;31mTypeError\u001b[0m                                 Traceback (most recent call last)",
      "\u001b[1;32m<ipython-input-18-2d5e474037ac>\u001b[0m in \u001b[0;36m<module>\u001b[1;34m\u001b[0m\n\u001b[0;32m      1\u001b[0m \u001b[0ma\u001b[0m \u001b[1;33m=\u001b[0m \u001b[0mtext\u001b[0m\u001b[1;33m.\u001b[0m\u001b[0mcount\u001b[0m\u001b[1;33m\u001b[0m\u001b[1;33m\u001b[0m\u001b[0m\n\u001b[1;32m----> 2\u001b[1;33m \u001b[0mmap\u001b[0m\u001b[1;33m(\u001b[0m\u001b[0mstr\u001b[0m\u001b[1;33m,\u001b[0m\u001b[0ma\u001b[0m\u001b[1;33m)\u001b[0m\u001b[1;33m\u001b[0m\u001b[1;33m\u001b[0m\u001b[0m\n\u001b[0m",
      "\u001b[1;31mTypeError\u001b[0m: 'builtin_function_or_method' object is not iterable"
     ]
    }
   ],
   "source": [
    "a = text.count\n",
    "map(str,a)"
   ]
  },
  {
   "cell_type": "code",
   "execution_count": 31,
   "metadata": {},
   "outputs": [
    {
     "name": "stdout",
     "output_type": "stream",
     "text": [
      "a34567fghjhgf878789999999\n",
      "0 0 0 1 1 1 1 3 3 7 "
     ]
    }
   ],
   "source": [
    "s=input()\n",
    "for i in range(0,10):\n",
    "    print(s.count(str(i)),end=' ')"
   ]
  },
  {
   "cell_type": "code",
   "execution_count": 33,
   "metadata": {},
   "outputs": [
    {
     "name": "stdout",
     "output_type": "stream",
     "text": [
      "0\n",
      "1\n",
      "3\n",
      "4\n",
      "3\n",
      "2\n",
      "0\n",
      "0\n",
      "0\n",
      "0\n"
     ]
    }
   ],
   "source": [
    "s = '242134dfasdf3534523'\n",
    "for i in range(10):\n",
    "    print(s.count(str(i)))\n",
    "    "
   ]
  },
  {
   "cell_type": "code",
   "execution_count": 36,
   "metadata": {},
   "outputs": [
    {
     "name": "stdout",
     "output_type": "stream",
     "text": [
      "hjggf6548769ih\n",
      "{'h': 1, 'j': 1, 'g': 1, 'f': 1, '6': 2, '5': 1, '4': 1, '8': 1, '7': 1, '9': 1, 'i': 1}\n"
     ]
    }
   ],
   "source": [
    "def digitFreq(s):\n",
    "    l=len(s)\n",
    "    li=s.strip()\n",
    "    df={}\n",
    "    for i in li:\n",
    "        if i in df and i.isdigit():\n",
    "            df[i]=df[i]+1\n",
    "        else:\n",
    "            df[i]=1\n",
    "    print(df)\n",
    "s=input()\n",
    "digitFreq(s)"
   ]
  },
  {
   "cell_type": "code",
   "execution_count": null,
   "metadata": {},
   "outputs": [],
   "source": [
    "inp = str(input())\n",
    "\n",
    "a = [int(i) for i in inp]"
   ]
  },
  {
   "cell_type": "code",
   "execution_count": null,
   "metadata": {},
   "outputs": [],
   "source": []
  }
 ],
 "metadata": {
  "kernelspec": {
   "display_name": "Python 3",
   "language": "python",
   "name": "python3"
  },
  "language_info": {
   "codemirror_mode": {
    "name": "ipython",
    "version": 3
   },
   "file_extension": ".py",
   "mimetype": "text/x-python",
   "name": "python",
   "nbconvert_exporter": "python",
   "pygments_lexer": "ipython3",
   "version": "3.7.3"
  }
 },
 "nbformat": 4,
 "nbformat_minor": 2
}
