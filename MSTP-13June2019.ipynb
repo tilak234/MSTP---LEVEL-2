{
 "cells": [
  {
   "cell_type": "code",
   "execution_count": 31,
   "metadata": {},
   "outputs": [
    {
     "name": "stdout",
     "output_type": "stream",
     "text": [
      "34560\n"
     ]
    }
   ],
   "source": [
    "#function to generate product of all factorials of a given range\n",
    "def factProd(a,b):\n",
    "    fProd= 1\n",
    "    for i in range(a,b+1):\n",
    "        fact = 1\n",
    "        if i>1:\n",
    "            for i in range(1,i+1):\n",
    "                fact = fact*i\n",
    "            fProd *= fact\n",
    "        else:\n",
    "            fProd *= fact\n",
    "    print(fProd)\n",
    "factProd(0,5)    "
   ]
  },
  {
   "cell_type": "code",
   "execution_count": 43,
   "metadata": {},
   "outputs": [
    {
     "name": "stdout",
     "output_type": "stream",
     "text": [
      "1\n",
      "153\n",
      "371\n",
      "407\n"
     ]
    }
   ],
   "source": [
    "#function to generate N odd armstrong numbers\n",
    "#153 = 1^3 + 5^3 + 3^3\n",
    "\n",
    "def armStrongNos(a,b):\n",
    "    for i in range(a,b+1):\n",
    "        temp = i\n",
    "        sum = 0\n",
    "        while temp > 0:\n",
    "            d = temp % 10\n",
    "            sum += d ** 3\n",
    "            temp //= 10\n",
    "        if sum == i:\n",
    "            if i % 2 != 0:\n",
    "                print(i)\n",
    "armStrongNos(1,500)"
   ]
  },
  {
   "cell_type": "code",
   "execution_count": 41,
   "metadata": {},
   "outputs": [
    {
     "name": "stdout",
     "output_type": "stream",
     "text": [
      "54 * 30 = 1620\n",
      "54 * 31 = 1674\n",
      "54 * 32 = 1728\n",
      "54 * 33 = 1782\n",
      "54 * 34 = 1836\n",
      "54 * 35 = 1890\n",
      "54 * 36 = 1944\n",
      "54 * 37 = 1998\n",
      "54 * 38 = 2052\n",
      "54 * 39 = 2106\n",
      "54 * 40 = 2160\n"
     ]
    }
   ],
   "source": [
    "# function to generate Multiplication tables for a number in a given range\n",
    "# 10 in range(100,102) inclusive\n",
    "# 10 *100 = 1000\n",
    "# 10* 101 = 1010\n",
    "# 10 * 102 = 1020\n",
    "def mulTable(a,lb,ub):\n",
    "    for i in range(lb,ub+1):\n",
    "        print(a,\"*\",i,\"=\",a*i)\n",
    "    \n",
    "mulTable(54,30,40)"
   ]
  },
  {
   "cell_type": "code",
   "execution_count": 47,
   "metadata": {},
   "outputs": [
    {
     "name": "stdout",
     "output_type": "stream",
     "text": [
      "9491\n"
     ]
    }
   ],
   "source": [
    "# calculate number of days in given time period using leapyear\n",
    "# For every year in the given time period, if the year is not\n",
    "def isLeap(yr):\n",
    "    if yr%400 == 0 or yr%400 ==0 and yr%100 != 0:\n",
    "        return True\n",
    "    else:\n",
    "        return False\n",
    "\n",
    "def numberofDays(start,end):\n",
    "    sum = 0\n",
    "    for year in range(start,end+1):\n",
    "        if isLeap(year):\n",
    "            sum += 366\n",
    "        else:\n",
    "            sum += 365\n",
    "    print(sum)\n",
    "numberofDays(1975,2000)\n",
    "    "
   ]
  },
  {
   "cell_type": "code",
   "execution_count": null,
   "metadata": {},
   "outputs": [],
   "source": [
    "# Function to calculate number of hours for a given peroid\n",
    "# number of hours(11,1975 and 3,1999 )\n",
    "\n",
    "def isLeap(yr):\n",
    "    if yr%400 == 0 or yr%400 ==0 and yr%100 != 0:\n",
    "        return True\n",
    "    else:\n",
    "        return False\n",
    "\n",
    "def numberofHours(sm,start,em,end):\n",
    "    days = 0\n",
    "    \n",
    "    for year in range(start,end+1):\n",
    "        if isLeap(year):\n",
    "            if sm == 1 or sm == 3 or sm == 5 or sm == 7 or sm == 8 or sm == 10 or sm == 12:\n",
    "            if sm in lMonthDays:\n",
    "                count = \n",
    "            days += 366\n",
    "        else:\n",
    "            monthDays = [31, 28, 31, 30, 31, 30, 31, 31, 30, 31, 30, 31]\n",
    "            days += 365\n",
    "    print(sum)\n",
    "numberofHours(11,1975,3,1999)"
   ]
  },
  {
   "cell_type": "code",
   "execution_count": 89,
   "metadata": {},
   "outputs": [
    {
     "name": "stdout",
     "output_type": "stream",
     "text": [
      "check\n"
     ]
    }
   ],
   "source": [
    "sm = 11\n",
    "if sm == 1 or sm == 3 or sm == 5 or sm == 7 or sm == 8 or sm == 10 or sm == 12:\n",
    "    print(31)\n",
    "elif sm == 4 || sm == 6 || sm == 9 \n",
    "elif sm==2:\n",
    "    print(28)\n",
    "else:\n",
    "    print(\"check\")"
   ]
  },
  {
   "cell_type": "code",
   "execution_count": null,
   "metadata": {},
   "outputs": [],
   "source": []
  },
  {
   "cell_type": "code",
   "execution_count": null,
   "metadata": {},
   "outputs": [],
   "source": []
  },
  {
   "cell_type": "code",
   "execution_count": null,
   "metadata": {},
   "outputs": [],
   "source": []
  }
 ],
 "metadata": {
  "kernelspec": {
   "display_name": "Python 3",
   "language": "python",
   "name": "python3"
  },
  "language_info": {
   "codemirror_mode": {
    "name": "ipython",
    "version": 3
   },
   "file_extension": ".py",
   "mimetype": "text/x-python",
   "name": "python",
   "nbconvert_exporter": "python",
   "pygments_lexer": "ipython3",
   "version": "3.7.3"
  }
 },
 "nbformat": 4,
 "nbformat_minor": 2
}
