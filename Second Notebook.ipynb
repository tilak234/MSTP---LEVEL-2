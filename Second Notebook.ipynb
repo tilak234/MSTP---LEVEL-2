{
 "cells": [
  {
   "cell_type": "code",
   "execution_count": 7,
   "metadata": {},
   "outputs": [
    {
     "data": {
      "text/plain": [
       "10"
      ]
     },
     "execution_count": 7,
     "metadata": {},
     "output_type": "execute_result"
    }
   ],
   "source": [
    "a = 10\n",
    "a"
   ]
  },
  {
   "cell_type": "code",
   "execution_count": 10,
   "metadata": {},
   "outputs": [
    {
     "data": {
      "text/plain": [
       "3.141592653589793"
      ]
     },
     "execution_count": 10,
     "metadata": {},
     "output_type": "execute_result"
    }
   ],
   "source": [
    "import math\n",
    "math.pi"
   ]
  },
  {
   "cell_type": "code",
   "execution_count": 12,
   "metadata": {},
   "outputs": [
    {
     "data": {
      "text/plain": [
       "125.66370614359172"
      ]
     },
     "execution_count": 12,
     "metadata": {},
     "output_type": "execute_result"
    }
   ],
   "source": [
    "math.pi * 40"
   ]
  },
  {
   "cell_type": "code",
   "execution_count": 17,
   "metadata": {},
   "outputs": [
    {
     "name": "stdout",
     "output_type": "stream",
     "text": [
      "True\n"
     ]
    }
   ],
   "source": [
    "atoms = 10 ** 8\n",
    "if atoms < 10 ** 9:\n",
    "    print(\"True\")\n",
    "    "
   ]
  },
  {
   "cell_type": "code",
   "execution_count": null,
   "metadata": {},
   "outputs": [],
   "source": [
    "#greatest of 3 numbers\n",
    "a = int(input(\"enter first number\"))\n",
    "b = int(input('enter second number'))\n",
    "c = int(input('enter third number'))\n",
    "\n",
    "if a > b and a >= c:\n",
    "    print(a +\" is the greatest\")\n",
    "elif b >= c:\n",
    "    print( b +\" is the greatest\")\n",
    "else:\n",
    "    print(c +\" is the greatest\")"
   ]
  },
  {
   "cell_type": "code",
   "execution_count": 33,
   "metadata": {},
   "outputs": [
    {
     "name": "stdout",
     "output_type": "stream",
     "text": [
      "enter a year to find leap or not2001\n",
      "2001 is not a leap year\n"
     ]
    }
   ],
   "source": [
    "#leap year or not python\n",
    "l = int(input(\"enter a year to find leap or not\"))\n",
    "\n",
    "if l%400 == 0 or (l%4 == 0 and l%100 != 0):\n",
    "    print(str(l)+\" is a leap year\")\n",
    "else:\n",
    "    print(str(l) +\" is not a leap year\")"
   ]
  },
  {
   "cell_type": "code",
   "execution_count": 51,
   "metadata": {},
   "outputs": [
    {
     "name": "stdout",
     "output_type": "stream",
     "text": [
      "enter a number1\n"
     ]
    }
   ],
   "source": [
    "#check if a number exists in a given range or not\n",
    "a = int(input(\"enter a number\"))"
   ]
  },
  {
   "cell_type": "code",
   "execution_count": 38,
   "metadata": {},
   "outputs": [
    {
     "name": "stdout",
     "output_type": "stream",
     "text": [
      "enter a number1234\n",
      "4\n"
     ]
    }
   ],
   "source": [
    "# calculate the number of digits in a number\n",
    "a = input(\"enter a number\")\n",
    "print(len(a))"
   ]
  },
  {
   "cell_type": "code",
   "execution_count": null,
   "metadata": {},
   "outputs": [],
   "source": [
    "#check if number is a multiple of 10\n",
    "a = int(input(\"enter a number \"))\n",
    "if a%10 == 0:\n",
    "    print(True)\n",
    "else:\n",
    "    print(False)"
   ]
  },
  {
   "cell_type": "code",
   "execution_count": 8,
   "metadata": {},
   "outputs": [
    {
     "name": "stdout",
     "output_type": "stream",
     "text": [
      "enter a number 10000\n",
      "1000 is factor of 10000\n"
     ]
    }
   ],
   "source": [
    "#check if a number is factor of 1000\n",
    "\n",
    "a = int(input(\"enter a number \"))\n",
    "if a % 1000 == 0:\n",
    "    print(\"1000 is factor of\",a)\n"
   ]
  },
  {
   "cell_type": "code",
   "execution_count": null,
   "metadata": {},
   "outputs": [],
   "source": [
    "# check if a given string is equal to a number\n",
    "n1 = 12345\n",
    "s1 = \"12344\"\n",
    "if str(n1) == s1:\n",
    "    print(n1 +\" is equal to\", s1)\n",
    "else:\n",
    "    print(n1 +\" is not equal to\", s1)"
   ]
  },
  {
   "cell_type": "code",
   "execution_count": 50,
   "metadata": {},
   "outputs": [
    {
     "name": "stdout",
     "output_type": "stream",
     "text": [
      "enter a number49\n",
      "7.0\n"
     ]
    }
   ],
   "source": [
    "# calculate the Square root of number without functions\n",
    "a = int(input(\"enter a number\"))\n",
    "print(a ** (1/2))"
   ]
  },
  {
   "cell_type": "code",
   "execution_count": 4,
   "metadata": {},
   "outputs": [
    {
     "name": "stdout",
     "output_type": "stream",
     "text": [
      "enter a year to find leap or not2019\n",
      "31536000000000000\n"
     ]
    }
   ],
   "source": [
    "# calculate the number of nano seconds(10^9) in a\n",
    "# given year ( considering leap year logic)\n",
    "\n",
    "#leap year or not python\n",
    "l = int(input(\"enter a year to find leap or not\"))\n",
    "\n",
    "if l%400 == 0 or (l%4 == 0 and l%100 != 0):\n",
    "#     print(str(l)+\" is a leap year\")\n",
    "    sec = 366*24*60 * 60\n",
    "    nsec = sec * 10 ** (9)\n",
    "    print(nsec)\n",
    "    \n",
    "else:\n",
    "    sec = 365*24*60 * 60\n",
    "    nsec = sec * 10 ** 9\n",
    "    print(nsec)"
   ]
  },
  {
   "cell_type": "code",
   "execution_count": null,
   "metadata": {},
   "outputs": [],
   "source": []
  }
 ],
 "metadata": {
  "kernelspec": {
   "display_name": "Python 3",
   "language": "python",
   "name": "python3"
  },
  "language_info": {
   "codemirror_mode": {
    "name": "ipython",
    "version": 3
   },
   "file_extension": ".py",
   "mimetype": "text/x-python",
   "name": "python",
   "nbconvert_exporter": "python",
   "pygments_lexer": "ipython3",
   "version": "3.7.3"
  }
 },
 "nbformat": 4,
 "nbformat_minor": 2
}
